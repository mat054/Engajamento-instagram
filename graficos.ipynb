{
 "cells": [
  {
   "cell_type": "code",
   "execution_count": 27,
   "id": "fd722961",
   "metadata": {},
   "outputs": [
    {
     "data": {
      "application/vnd.microsoft.datawrangler.viewer.v0+json": {
       "columns": [
        {
         "name": "index",
         "rawType": "int64",
         "type": "integer"
        },
        {
         "name": "Tipo",
         "rawType": "object",
         "type": "string"
        },
        {
         "name": "Data",
         "rawType": "datetime64[ns]",
         "type": "datetime"
        },
        {
         "name": "Curtidas",
         "rawType": "int64",
         "type": "integer"
        },
        {
         "name": "Comentários",
         "rawType": "int64",
         "type": "integer"
        },
        {
         "name": "Tags",
         "rawType": "object",
         "type": "string"
        },
        {
         "name": "Pessoas",
         "rawType": "object",
         "type": "string"
        },
        {
         "name": "Campanhas",
         "rawType": "object",
         "type": "string"
        },
        {
         "name": "Carrossel",
         "rawType": "object",
         "type": "string"
        },
        {
         "name": "Interacoes ",
         "rawType": "int64",
         "type": "integer"
        }
       ],
       "ref": "f4358934-0771-4617-a671-2d3368dbe9f9",
       "rows": [
        [
         "0",
         "Foto",
         "2021-09-11 00:00:00",
         "2858",
         "16",
         "Loja",
         "N",
         "N",
         "N",
         "2874"
        ],
        [
         "1",
         "Foto",
         "2021-09-11 00:00:00",
         "2930",
         "28",
         "Loja/Produtos",
         "N",
         "N",
         "N",
         "2958"
        ],
        [
         "2",
         "Foto",
         "2021-09-11 00:00:00",
         "2807",
         "9",
         "Loja",
         "N",
         "N",
         "N",
         "2816"
        ],
        [
         "3",
         "Vídeo",
         "2021-09-12 00:00:00",
         "5115",
         "49",
         "Produtos",
         "N",
         "N",
         "N",
         "5164"
        ],
        [
         "4",
         "Foto",
         "2021-09-13 00:00:00",
         "4392",
         "45",
         "Produtos",
         "S",
         "N",
         "N",
         "4437"
        ]
       ],
       "shape": {
        "columns": 9,
        "rows": 5
       }
      },
      "text/html": [
       "<div>\n",
       "<style scoped>\n",
       "    .dataframe tbody tr th:only-of-type {\n",
       "        vertical-align: middle;\n",
       "    }\n",
       "\n",
       "    .dataframe tbody tr th {\n",
       "        vertical-align: top;\n",
       "    }\n",
       "\n",
       "    .dataframe thead th {\n",
       "        text-align: right;\n",
       "    }\n",
       "</style>\n",
       "<table border=\"1\" class=\"dataframe\">\n",
       "  <thead>\n",
       "    <tr style=\"text-align: right;\">\n",
       "      <th></th>\n",
       "      <th>Tipo</th>\n",
       "      <th>Data</th>\n",
       "      <th>Curtidas</th>\n",
       "      <th>Comentários</th>\n",
       "      <th>Tags</th>\n",
       "      <th>Pessoas</th>\n",
       "      <th>Campanhas</th>\n",
       "      <th>Carrossel</th>\n",
       "      <th>Interacoes</th>\n",
       "    </tr>\n",
       "  </thead>\n",
       "  <tbody>\n",
       "    <tr>\n",
       "      <th>0</th>\n",
       "      <td>Foto</td>\n",
       "      <td>2021-09-11</td>\n",
       "      <td>2858</td>\n",
       "      <td>16</td>\n",
       "      <td>Loja</td>\n",
       "      <td>N</td>\n",
       "      <td>N</td>\n",
       "      <td>N</td>\n",
       "      <td>2874</td>\n",
       "    </tr>\n",
       "    <tr>\n",
       "      <th>1</th>\n",
       "      <td>Foto</td>\n",
       "      <td>2021-09-11</td>\n",
       "      <td>2930</td>\n",
       "      <td>28</td>\n",
       "      <td>Loja/Produtos</td>\n",
       "      <td>N</td>\n",
       "      <td>N</td>\n",
       "      <td>N</td>\n",
       "      <td>2958</td>\n",
       "    </tr>\n",
       "    <tr>\n",
       "      <th>2</th>\n",
       "      <td>Foto</td>\n",
       "      <td>2021-09-11</td>\n",
       "      <td>2807</td>\n",
       "      <td>9</td>\n",
       "      <td>Loja</td>\n",
       "      <td>N</td>\n",
       "      <td>N</td>\n",
       "      <td>N</td>\n",
       "      <td>2816</td>\n",
       "    </tr>\n",
       "    <tr>\n",
       "      <th>3</th>\n",
       "      <td>Vídeo</td>\n",
       "      <td>2021-09-12</td>\n",
       "      <td>5115</td>\n",
       "      <td>49</td>\n",
       "      <td>Produtos</td>\n",
       "      <td>N</td>\n",
       "      <td>N</td>\n",
       "      <td>N</td>\n",
       "      <td>5164</td>\n",
       "    </tr>\n",
       "    <tr>\n",
       "      <th>4</th>\n",
       "      <td>Foto</td>\n",
       "      <td>2021-09-13</td>\n",
       "      <td>4392</td>\n",
       "      <td>45</td>\n",
       "      <td>Produtos</td>\n",
       "      <td>S</td>\n",
       "      <td>N</td>\n",
       "      <td>N</td>\n",
       "      <td>4437</td>\n",
       "    </tr>\n",
       "  </tbody>\n",
       "</table>\n",
       "</div>"
      ],
      "text/plain": [
       "    Tipo       Data  Curtidas  Comentários           Tags Pessoas Campanhas  \\\n",
       "0   Foto 2021-09-11      2858           16           Loja       N         N   \n",
       "1   Foto 2021-09-11      2930           28  Loja/Produtos       N         N   \n",
       "2   Foto 2021-09-11      2807            9           Loja       N         N   \n",
       "3  Vídeo 2021-09-12      5115           49       Produtos       N         N   \n",
       "4   Foto 2021-09-13      4392           45       Produtos       S         N   \n",
       "\n",
       "  Carrossel  Interacoes   \n",
       "0         N         2874  \n",
       "1         N         2958  \n",
       "2         N         2816  \n",
       "3         N         5164  \n",
       "4         N         4437  "
      ]
     },
     "execution_count": 27,
     "metadata": {},
     "output_type": "execute_result"
    }
   ],
   "source": [
    "import pandas as pd\n",
    "\n",
    "BASE = \"Dados/engajamento_tratado.xlsx\"\n",
    "\n",
    "df = pd.read_excel(BASE)\n",
    "df.head(5)"
   ]
  },
  {
   "cell_type": "code",
   "execution_count": 28,
   "id": "33e7bb59",
   "metadata": {},
   "outputs": [
    {
     "data": {
      "application/vnd.microsoft.datawrangler.viewer.v0+json": {
       "columns": [
        {
         "name": "index",
         "rawType": "object",
         "type": "string"
        },
        {
         "name": "Data",
         "rawType": "object",
         "type": "unknown"
        },
        {
         "name": "Curtidas",
         "rawType": "float64",
         "type": "float"
        },
        {
         "name": "Comentários",
         "rawType": "float64",
         "type": "float"
        },
        {
         "name": "Interacoes ",
         "rawType": "float64",
         "type": "float"
        }
       ],
       "ref": "18ee1c7b-3367-4f89-8d53-e3e0f438886c",
       "rows": [
        [
         "count",
         "52",
         "52.0",
         "52.0",
         "52.0"
        ],
        [
         "mean",
         "2021-12-23 04:36:55.384615424",
         "12262.73076923077",
         "189.5",
         "12452.23076923077"
        ],
        [
         "min",
         "2021-09-11 00:00:00",
         "2807.0",
         "9.0",
         "2816.0"
        ],
        [
         "25%",
         "2021-10-23 06:00:00",
         "5492.0",
         "69.5",
         "5562.5"
        ],
        [
         "50%",
         "2022-01-05 00:00:00",
         "9603.0",
         "128.0",
         "9773.5"
        ],
        [
         "75%",
         "2022-02-15 12:00:00",
         "17621.75",
         "265.25",
         "17920.75"
        ],
        [
         "max",
         "2022-03-27 00:00:00",
         "37351.0",
         "852.0",
         "37853.0"
        ],
        [
         "std",
         null,
         "8165.8753264828965",
         "170.68770933387987",
         "8299.390087714537"
        ]
       ],
       "shape": {
        "columns": 4,
        "rows": 8
       }
      },
      "text/html": [
       "<div>\n",
       "<style scoped>\n",
       "    .dataframe tbody tr th:only-of-type {\n",
       "        vertical-align: middle;\n",
       "    }\n",
       "\n",
       "    .dataframe tbody tr th {\n",
       "        vertical-align: top;\n",
       "    }\n",
       "\n",
       "    .dataframe thead th {\n",
       "        text-align: right;\n",
       "    }\n",
       "</style>\n",
       "<table border=\"1\" class=\"dataframe\">\n",
       "  <thead>\n",
       "    <tr style=\"text-align: right;\">\n",
       "      <th></th>\n",
       "      <th>Data</th>\n",
       "      <th>Curtidas</th>\n",
       "      <th>Comentários</th>\n",
       "      <th>Interacoes</th>\n",
       "    </tr>\n",
       "  </thead>\n",
       "  <tbody>\n",
       "    <tr>\n",
       "      <th>count</th>\n",
       "      <td>52</td>\n",
       "      <td>52.000000</td>\n",
       "      <td>52.000000</td>\n",
       "      <td>52.000000</td>\n",
       "    </tr>\n",
       "    <tr>\n",
       "      <th>mean</th>\n",
       "      <td>2021-12-23 04:36:55.384615424</td>\n",
       "      <td>12262.730769</td>\n",
       "      <td>189.500000</td>\n",
       "      <td>12452.230769</td>\n",
       "    </tr>\n",
       "    <tr>\n",
       "      <th>min</th>\n",
       "      <td>2021-09-11 00:00:00</td>\n",
       "      <td>2807.000000</td>\n",
       "      <td>9.000000</td>\n",
       "      <td>2816.000000</td>\n",
       "    </tr>\n",
       "    <tr>\n",
       "      <th>25%</th>\n",
       "      <td>2021-10-23 06:00:00</td>\n",
       "      <td>5492.000000</td>\n",
       "      <td>69.500000</td>\n",
       "      <td>5562.500000</td>\n",
       "    </tr>\n",
       "    <tr>\n",
       "      <th>50%</th>\n",
       "      <td>2022-01-05 00:00:00</td>\n",
       "      <td>9603.000000</td>\n",
       "      <td>128.000000</td>\n",
       "      <td>9773.500000</td>\n",
       "    </tr>\n",
       "    <tr>\n",
       "      <th>75%</th>\n",
       "      <td>2022-02-15 12:00:00</td>\n",
       "      <td>17621.750000</td>\n",
       "      <td>265.250000</td>\n",
       "      <td>17920.750000</td>\n",
       "    </tr>\n",
       "    <tr>\n",
       "      <th>max</th>\n",
       "      <td>2022-03-27 00:00:00</td>\n",
       "      <td>37351.000000</td>\n",
       "      <td>852.000000</td>\n",
       "      <td>37853.000000</td>\n",
       "    </tr>\n",
       "    <tr>\n",
       "      <th>std</th>\n",
       "      <td>NaN</td>\n",
       "      <td>8165.875326</td>\n",
       "      <td>170.687709</td>\n",
       "      <td>8299.390088</td>\n",
       "    </tr>\n",
       "  </tbody>\n",
       "</table>\n",
       "</div>"
      ],
      "text/plain": [
       "                                Data      Curtidas  Comentários   Interacoes \n",
       "count                             52     52.000000    52.000000     52.000000\n",
       "mean   2021-12-23 04:36:55.384615424  12262.730769   189.500000  12452.230769\n",
       "min              2021-09-11 00:00:00   2807.000000     9.000000   2816.000000\n",
       "25%              2021-10-23 06:00:00   5492.000000    69.500000   5562.500000\n",
       "50%              2022-01-05 00:00:00   9603.000000   128.000000   9773.500000\n",
       "75%              2022-02-15 12:00:00  17621.750000   265.250000  17920.750000\n",
       "max              2022-03-27 00:00:00  37351.000000   852.000000  37853.000000\n",
       "std                              NaN   8165.875326   170.687709   8299.390088"
      ]
     },
     "execution_count": 28,
     "metadata": {},
     "output_type": "execute_result"
    }
   ],
   "source": [
    "df.describe()"
   ]
  },
  {
   "cell_type": "markdown",
   "id": "3d07841c",
   "metadata": {},
   "source": [
    "### Analisando visualmente as curtidas com base no describe\n",
    "\n",
    "- A postagem com o menor número de curtidas foi 2807 \n",
    "- A postagem com o maior número de curtidas foi 37351 (bem discrepante)\n",
    "\n",
    "Vamos verificar como estão essas curtidas ao longo do tempo:"
   ]
  },
  {
   "cell_type": "code",
   "execution_count": 29,
   "id": "3814bbd9",
   "metadata": {},
   "outputs": [
    {
     "data": {
      "text/plain": [
       "<Axes: xlabel='Data', ylabel='Curtidas'>"
      ]
     },
     "execution_count": 29,
     "metadata": {},
     "output_type": "execute_result"
    },
    {
     "data": {
      "image/png": "[encoded data removed]",
      "text/plain": [
       "<Figure size 1400x800 with 1 Axes>"
      ]
     },
     "metadata": {},
     "output_type": "display_data"
    }
   ],
   "source": [
    "df.plot(kind='scatter', x=\"Data\", y=\"Curtidas\", figsize=(14,8))"
   ]
  },
  {
   "cell_type": "markdown",
   "id": "ad66e469",
   "metadata": {},
   "source": [
    "Já podemos ver que no tempo não tem um aumento consistente de curtidas que possa indicar a relação com um número alto ou baixo de curtidas. A data não é um fator tão predominante que influencia nas curtidas"
   ]
  },
  {
   "cell_type": "markdown",
   "id": "56a10ff5",
   "metadata": {},
   "source": [
    "Agora iremos colocar curtidas e comentários juntos no gráfico para vermos a correlação entre os dois"
   ]
  },
  {
   "cell_type": "code",
   "execution_count": 30,
   "id": "7b776a60",
   "metadata": {},
   "outputs": [
    {
     "data": {
      "text/plain": [
       "<Axes: xlabel='Data', ylabel='Comentários'>"
      ]
     },
     "execution_count": 30,
     "metadata": {},
     "output_type": "execute_result"
    },
    {
     "data": {
      "image/png": "[encoded data removed]",
      "text/plain": [
       "<Figure size 1400x800 with 1 Axes>"
      ]
     },
     "metadata": {},
     "output_type": "display_data"
    }
   ],
   "source": [
    "ax = df.plot(kind='scatter', x=\"Data\", y=\"Curtidas\", figsize=(14,8), color=\"blue\", label=\"Curtidas\")\n",
    "df.plot(kind=\"scatter\", x=\"Data\", y=\"Comentários\", label=\"Comentários\", color=\"red\", figsize=(14,8), ax=ax)"
   ]
  },
  {
   "cell_type": "code",
   "execution_count": 31,
   "id": "f6453b98",
   "metadata": {},
   "outputs": [
    {
     "data": {
      "image/png": "[encoded data removed]",
      "text/plain": [
       "<Figure size 1400x800 with 2 Axes>"
      ]
     },
     "metadata": {},
     "output_type": "display_data"
    }
   ],
   "source": [
    "# Gráfico mais avançado (COM DOIS EIXOS Y DIFERENTES), aprenderemos isso no próximo módulo ainda!!\n",
    "\n",
    "import matplotlib.pyplot as plt\n",
    "\n",
    "fig, ax1 = plt.subplots(figsize=(14, 8))\n",
    "\n",
    "# Primeiro eixo Y - Curtidas\n",
    "ax1.scatter(df[\"Data\"], df[\"Curtidas\"], color=\"blue\", label=\"Curtidas\")\n",
    "ax1.set_xlabel(\"Data\")\n",
    "ax1.set_ylabel(\"Curtidas\", color=\"blue\")\n",
    "ax1.tick_params(axis='y', labelcolor=\"blue\")\n",
    "\n",
    "# Segundo eixo Y - Comentários\n",
    "ax2 = ax1.twinx()\n",
    "ax2.scatter(df[\"Data\"], df[\"Comentários\"], color=\"red\", label=\"Comentários\")\n",
    "ax2.set_ylabel(\"Comentários\", color=\"red\")\n",
    "ax2.tick_params(axis='y', labelcolor=\"red\")\n",
    "\n",
    "# Título e legenda combinada\n",
    "fig.suptitle(\"Curtidas e Comentários ao Longo do Tempo\")\n",
    "fig.legend([\"Curtidas\", \"Comentários\"], loc=\"upper right\")\n",
    "\n",
    "plt.show()\n"
   ]
  },
  {
   "cell_type": "markdown",
   "id": "51495d76",
   "metadata": {},
   "source": [
    "## Analisar os 5 registros com mais e menos curtidas"
   ]
  },
  {
   "cell_type": "code",
   "execution_count": 32,
   "id": "dfbe97a4",
   "metadata": {},
   "outputs": [
    {
     "data": {
      "application/vnd.microsoft.datawrangler.viewer.v0+json": {
       "columns": [
        {
         "name": "index",
         "rawType": "int64",
         "type": "integer"
        },
        {
         "name": "Tipo",
         "rawType": "object",
         "type": "string"
        },
        {
         "name": "Data",
         "rawType": "datetime64[ns]",
         "type": "datetime"
        },
        {
         "name": "Curtidas",
         "rawType": "int64",
         "type": "integer"
        },
        {
         "name": "Comentários",
         "rawType": "int64",
         "type": "integer"
        },
        {
         "name": "Tags",
         "rawType": "object",
         "type": "string"
        },
        {
         "name": "Pessoas",
         "rawType": "object",
         "type": "string"
        },
        {
         "name": "Campanhas",
         "rawType": "object",
         "type": "string"
        },
        {
         "name": "Carrossel",
         "rawType": "object",
         "type": "string"
        },
        {
         "name": "Interacoes ",
         "rawType": "int64",
         "type": "integer"
        }
       ],
       "ref": "f86fb774-bcbc-4a27-a7a0-d44c8b76fee5",
       "rows": [
        [
         "39",
         "Foto",
         "2022-02-17 00:00:00",
         "37351",
         "502",
         "Promoções",
         "S",
         "S",
         "N",
         "37853"
        ],
        [
         "30",
         "Reels",
         "2022-01-24 00:00:00",
         "29981",
         "502",
         "Trends",
         "S",
         "S",
         "N",
         "30483"
        ],
        [
         "48",
         "Foto",
         "2022-03-20 00:00:00",
         "29084",
         "479",
         "Datas comemorativas/Promoções",
         "S",
         "S",
         "N",
         "29563"
        ],
        [
         "33",
         "Foto",
         "2022-02-06 00:00:00",
         "24655",
         "186",
         "Influenciadores",
         "S",
         "S",
         "N",
         "24841"
        ],
        [
         "26",
         "Foto",
         "2022-01-08 00:00:00",
         "24585",
         "354",
         "Datas comemorativas",
         "S",
         "S",
         "S",
         "24939"
        ]
       ],
       "shape": {
        "columns": 9,
        "rows": 5
       }
      },
      "text/html": [
       "<div>\n",
       "<style scoped>\n",
       "    .dataframe tbody tr th:only-of-type {\n",
       "        vertical-align: middle;\n",
       "    }\n",
       "\n",
       "    .dataframe tbody tr th {\n",
       "        vertical-align: top;\n",
       "    }\n",
       "\n",
       "    .dataframe thead th {\n",
       "        text-align: right;\n",
       "    }\n",
       "</style>\n",
       "<table border=\"1\" class=\"dataframe\">\n",
       "  <thead>\n",
       "    <tr style=\"text-align: right;\">\n",
       "      <th></th>\n",
       "      <th>Tipo</th>\n",
       "      <th>Data</th>\n",
       "      <th>Curtidas</th>\n",
       "      <th>Comentários</th>\n",
       "      <th>Tags</th>\n",
       "      <th>Pessoas</th>\n",
       "      <th>Campanhas</th>\n",
       "      <th>Carrossel</th>\n",
       "      <th>Interacoes</th>\n",
       "    </tr>\n",
       "  </thead>\n",
       "  <tbody>\n",
       "    <tr>\n",
       "      <th>39</th>\n",
       "      <td>Foto</td>\n",
       "      <td>2022-02-17</td>\n",
       "      <td>37351</td>\n",
       "      <td>502</td>\n",
       "      <td>Promoções</td>\n",
       "      <td>S</td>\n",
       "      <td>S</td>\n",
       "      <td>N</td>\n",
       "      <td>37853</td>\n",
       "    </tr>\n",
       "    <tr>\n",
       "      <th>30</th>\n",
       "      <td>Reels</td>\n",
       "      <td>2022-01-24</td>\n",
       "      <td>29981</td>\n",
       "      <td>502</td>\n",
       "      <td>Trends</td>\n",
       "      <td>S</td>\n",
       "      <td>S</td>\n",
       "      <td>N</td>\n",
       "      <td>30483</td>\n",
       "    </tr>\n",
       "    <tr>\n",
       "      <th>48</th>\n",
       "      <td>Foto</td>\n",
       "      <td>2022-03-20</td>\n",
       "      <td>29084</td>\n",
       "      <td>479</td>\n",
       "      <td>Datas comemorativas/Promoções</td>\n",
       "      <td>S</td>\n",
       "      <td>S</td>\n",
       "      <td>N</td>\n",
       "      <td>29563</td>\n",
       "    </tr>\n",
       "    <tr>\n",
       "      <th>33</th>\n",
       "      <td>Foto</td>\n",
       "      <td>2022-02-06</td>\n",
       "      <td>24655</td>\n",
       "      <td>186</td>\n",
       "      <td>Influenciadores</td>\n",
       "      <td>S</td>\n",
       "      <td>S</td>\n",
       "      <td>N</td>\n",
       "      <td>24841</td>\n",
       "    </tr>\n",
       "    <tr>\n",
       "      <th>26</th>\n",
       "      <td>Foto</td>\n",
       "      <td>2022-01-08</td>\n",
       "      <td>24585</td>\n",
       "      <td>354</td>\n",
       "      <td>Datas comemorativas</td>\n",
       "      <td>S</td>\n",
       "      <td>S</td>\n",
       "      <td>S</td>\n",
       "      <td>24939</td>\n",
       "    </tr>\n",
       "  </tbody>\n",
       "</table>\n",
       "</div>"
      ],
      "text/plain": [
       "     Tipo       Data  Curtidas  Comentários                           Tags  \\\n",
       "39   Foto 2022-02-17     37351          502                      Promoções   \n",
       "30  Reels 2022-01-24     29981          502                         Trends   \n",
       "48   Foto 2022-03-20     29084          479  Datas comemorativas/Promoções   \n",
       "33   Foto 2022-02-06     24655          186                Influenciadores   \n",
       "26   Foto 2022-01-08     24585          354            Datas comemorativas   \n",
       "\n",
       "   Pessoas Campanhas Carrossel  Interacoes   \n",
       "39       S         S         N        37853  \n",
       "30       S         S         N        30483  \n",
       "48       S         S         N        29563  \n",
       "33       S         S         N        24841  \n",
       "26       S         S         S        24939  "
      ]
     },
     "execution_count": 32,
     "metadata": {},
     "output_type": "execute_result"
    }
   ],
   "source": [
    "df.sort_values(by=\"Curtidas\", ascending=False).head()"
   ]
  },
  {
   "cell_type": "code",
   "execution_count": 33,
   "id": "12e33d5a",
   "metadata": {},
   "outputs": [
    {
     "data": {
      "application/vnd.microsoft.datawrangler.viewer.v0+json": {
       "columns": [
        {
         "name": "index",
         "rawType": "int64",
         "type": "integer"
        },
        {
         "name": "Tipo",
         "rawType": "object",
         "type": "string"
        },
        {
         "name": "Data",
         "rawType": "datetime64[ns]",
         "type": "datetime"
        },
        {
         "name": "Curtidas",
         "rawType": "int64",
         "type": "integer"
        },
        {
         "name": "Comentários",
         "rawType": "int64",
         "type": "integer"
        },
        {
         "name": "Tags",
         "rawType": "object",
         "type": "string"
        },
        {
         "name": "Pessoas",
         "rawType": "object",
         "type": "string"
        },
        {
         "name": "Campanhas",
         "rawType": "object",
         "type": "string"
        },
        {
         "name": "Carrossel",
         "rawType": "object",
         "type": "string"
        },
        {
         "name": "Interacoes ",
         "rawType": "int64",
         "type": "integer"
        }
       ],
       "ref": "eb4af7b0-ab6f-44c6-9d63-201a0e182f68",
       "rows": [
        [
         "17",
         "Vídeo",
         "2021-11-09 00:00:00",
         "3213",
         "60",
         "Produtos",
         "N",
         "N",
         "N",
         "3273"
        ],
        [
         "1",
         "Foto",
         "2021-09-11 00:00:00",
         "2930",
         "28",
         "Loja/Produtos",
         "N",
         "N",
         "N",
         "2958"
        ],
        [
         "20",
         "Foto",
         "2021-12-16 00:00:00",
         "2881",
         "29",
         "Produtos",
         "N",
         "N",
         "N",
         "2910"
        ],
        [
         "0",
         "Foto",
         "2021-09-11 00:00:00",
         "2858",
         "16",
         "Loja",
         "N",
         "N",
         "N",
         "2874"
        ],
        [
         "2",
         "Foto",
         "2021-09-11 00:00:00",
         "2807",
         "9",
         "Loja",
         "N",
         "N",
         "N",
         "2816"
        ]
       ],
       "shape": {
        "columns": 9,
        "rows": 5
       }
      },
      "text/html": [
       "<div>\n",
       "<style scoped>\n",
       "    .dataframe tbody tr th:only-of-type {\n",
       "        vertical-align: middle;\n",
       "    }\n",
       "\n",
       "    .dataframe tbody tr th {\n",
       "        vertical-align: top;\n",
       "    }\n",
       "\n",
       "    .dataframe thead th {\n",
       "        text-align: right;\n",
       "    }\n",
       "</style>\n",
       "<table border=\"1\" class=\"dataframe\">\n",
       "  <thead>\n",
       "    <tr style=\"text-align: right;\">\n",
       "      <th></th>\n",
       "      <th>Tipo</th>\n",
       "      <th>Data</th>\n",
       "      <th>Curtidas</th>\n",
       "      <th>Comentários</th>\n",
       "      <th>Tags</th>\n",
       "      <th>Pessoas</th>\n",
       "      <th>Campanhas</th>\n",
       "      <th>Carrossel</th>\n",
       "      <th>Interacoes</th>\n",
       "    </tr>\n",
       "  </thead>\n",
       "  <tbody>\n",
       "    <tr>\n",
       "      <th>17</th>\n",
       "      <td>Vídeo</td>\n",
       "      <td>2021-11-09</td>\n",
       "      <td>3213</td>\n",
       "      <td>60</td>\n",
       "      <td>Produtos</td>\n",
       "      <td>N</td>\n",
       "      <td>N</td>\n",
       "      <td>N</td>\n",
       "      <td>3273</td>\n",
       "    </tr>\n",
       "    <tr>\n",
       "      <th>1</th>\n",
       "      <td>Foto</td>\n",
       "      <td>2021-09-11</td>\n",
       "      <td>2930</td>\n",
       "      <td>28</td>\n",
       "      <td>Loja/Produtos</td>\n",
       "      <td>N</td>\n",
       "      <td>N</td>\n",
       "      <td>N</td>\n",
       "      <td>2958</td>\n",
       "    </tr>\n",
       "    <tr>\n",
       "      <th>20</th>\n",
       "      <td>Foto</td>\n",
       "      <td>2021-12-16</td>\n",
       "      <td>2881</td>\n",
       "      <td>29</td>\n",
       "      <td>Produtos</td>\n",
       "      <td>N</td>\n",
       "      <td>N</td>\n",
       "      <td>N</td>\n",
       "      <td>2910</td>\n",
       "    </tr>\n",
       "    <tr>\n",
       "      <th>0</th>\n",
       "      <td>Foto</td>\n",
       "      <td>2021-09-11</td>\n",
       "      <td>2858</td>\n",
       "      <td>16</td>\n",
       "      <td>Loja</td>\n",
       "      <td>N</td>\n",
       "      <td>N</td>\n",
       "      <td>N</td>\n",
       "      <td>2874</td>\n",
       "    </tr>\n",
       "    <tr>\n",
       "      <th>2</th>\n",
       "      <td>Foto</td>\n",
       "      <td>2021-09-11</td>\n",
       "      <td>2807</td>\n",
       "      <td>9</td>\n",
       "      <td>Loja</td>\n",
       "      <td>N</td>\n",
       "      <td>N</td>\n",
       "      <td>N</td>\n",
       "      <td>2816</td>\n",
       "    </tr>\n",
       "  </tbody>\n",
       "</table>\n",
       "</div>"
      ],
      "text/plain": [
       "     Tipo       Data  Curtidas  Comentários           Tags Pessoas Campanhas  \\\n",
       "17  Vídeo 2021-11-09      3213           60       Produtos       N         N   \n",
       "1    Foto 2021-09-11      2930           28  Loja/Produtos       N         N   \n",
       "20   Foto 2021-12-16      2881           29       Produtos       N         N   \n",
       "0    Foto 2021-09-11      2858           16           Loja       N         N   \n",
       "2    Foto 2021-09-11      2807            9           Loja       N         N   \n",
       "\n",
       "   Carrossel  Interacoes   \n",
       "17         N         3273  \n",
       "1          N         2958  \n",
       "20         N         2910  \n",
       "0          N         2874  \n",
       "2          N         2816  "
      ]
     },
     "execution_count": 33,
     "metadata": {},
     "output_type": "execute_result"
    }
   ],
   "source": [
    "df.sort_values(by=\"Curtidas\", ascending=False).tail()"
   ]
  },
  {
   "cell_type": "markdown",
   "id": "30cdd7ab",
   "metadata": {},
   "source": [
    "- Fazendo essa análise visual simples das publicações mais curtidas e das menos curtidas, nós podemos perceber que as mais curtidas sempre envolvem pessoas e as menos curtidas não envolvem pessoas"
   ]
  },
  {
   "cell_type": "code",
   "execution_count": 34,
   "id": "32560587",
   "metadata": {},
   "outputs": [
    {
     "name": "stdout",
     "output_type": "stream",
     "text": [
      "76.92%\n"
     ]
    }
   ],
   "source": [
    "pessoas = df.copy()\n",
    "\n",
    "pessoas.loc[pessoas[\"Pessoas\"] == \"N\", \"Pessoas\"] = '0'                                                 # tranformei a coluna de N para 0\n",
    "pessoas.loc[pessoas[\"Pessoas\"] == \"S\", \"Pessoas\"] = '1'                                                 # tranformei a coluna de S para 1\n",
    "pessoas[\"Pessoas\"] = pessoas[\"Pessoas\"].astype(int)                                                     # transformei a coluna para o tipo inteiro\n",
    "postagens_pessoas = pessoas[\"Pessoas\"].sum()                                                            # fiz a soma para ver a quantidade de 1\n",
    "postagens_sem_pessoas = pessoas[\"Pessoas\"].count() - pessoas[\"Pessoas\"].sum()                           # fiz a subtração para saber a quantidade de postagens sem pessoas\n",
    "total = pessoas[\"Pessoas\"].count()                                                                      # fiz a contagem do total de linhas, ou seja, total de publicações\n",
    "\n",
    "print(f\"{postagens_pessoas/total:.2%}\")"
   ]
  },
  {
   "cell_type": "markdown",
   "id": "e7eb0fe8",
   "metadata": {},
   "source": [
    "Interessante, a maioria das publicações tem pessoas, mas podemos fazer essas análise para o restante das colunas, como postagens que possuem ou não carrossel, postagens com o maior e menor número de comentários etc"
   ]
  },
  {
   "cell_type": "markdown",
   "id": "1c9b53f1",
   "metadata": {},
   "source": [
    "Outra ideia, é pegar as publicações a partir do mês de janeiro de 2022 que as postagens tiveram um aumento geral no número de curtidas e a partir dessa data analisar, as com 5 maiores números de curtidas e 5 menores. Poderemos chegar em outra conclusões\n"
   ]
  },
  {
   "cell_type": "code",
   "execution_count": null,
   "id": "12a53a77",
   "metadata": {},
   "outputs": [
    {
     "name": "stdout",
     "output_type": "stream",
     "text": [
      "76.92%\n"
     ]
    }
   ],
   "source": [
    "# Outro jeito de calcular o percentual, utilizando o value counts()\n",
    "\n",
    "vc = df.Pessoas.value_counts().reset_index()\n",
    "\n",
    "sem_pessoas = vc.loc[vc.Pessoas == \"N\",\"count\"]\n",
    "com_pessoas = vc.loc[vc[\"Pessoas\"] == \"S\", \"count\"]\n",
    "\n",
    "sem_pessoas = int(sem_pessoas.iloc[0])\n",
    "com_pessoas = int(com_pessoas.iloc[0])\n",
    "total = df[\"Pessoas\"].count()\n",
    "\n",
    "print(f\"{com_pessoas/total:.2%}\")"
   ]
  }
 ],
 "metadata": {
  "kernelspec": {
   "display_name": "ambiente_virtual",
   "language": "python",
   "name": "python3"
  },
  "language_info": {
   "codemirror_mode": {
    "name": "ipython",
    "version": 3
   },
   "file_extension": ".py",
   "mimetype": "text/x-python",
   "name": "python",
   "nbconvert_exporter": "python",
   "pygments_lexer": "ipython3",
   "version": "3.12.3"
  }
 },
 "nbformat": 4,
 "nbformat_minor": 5
}
