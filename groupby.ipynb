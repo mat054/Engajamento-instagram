{
 "cells": [
  {
   "cell_type": "code",
   "execution_count": 35,
   "id": "eb9eaa29",
   "metadata": {},
   "outputs": [
    {
     "data": {
      "application/vnd.microsoft.datawrangler.viewer.v0+json": {
       "columns": [
        {
         "name": "index",
         "rawType": "int64",
         "type": "integer"
        },
        {
         "name": "Tipo",
         "rawType": "object",
         "type": "string"
        },
        {
         "name": "Data",
         "rawType": "datetime64[ns]",
         "type": "datetime"
        },
        {
         "name": "Curtidas",
         "rawType": "int64",
         "type": "integer"
        },
        {
         "name": "Comentários",
         "rawType": "int64",
         "type": "integer"
        },
        {
         "name": "Tags",
         "rawType": "object",
         "type": "string"
        },
        {
         "name": "Pessoas",
         "rawType": "object",
         "type": "string"
        },
        {
         "name": "Campanhas",
         "rawType": "object",
         "type": "string"
        },
        {
         "name": "Carrossel",
         "rawType": "object",
         "type": "string"
        },
        {
         "name": "Interacoes ",
         "rawType": "int64",
         "type": "integer"
        }
       ],
       "ref": "bb3337d4-d287-4040-b7c8-195c4d7066de",
       "rows": [
        [
         "0",
         "Foto",
         "2021-09-11 00:00:00",
         "2858",
         "16",
         "Loja",
         "N",
         "N",
         "N",
         "2874"
        ],
        [
         "1",
         "Foto",
         "2021-09-11 00:00:00",
         "2930",
         "28",
         "Loja/Produtos",
         "N",
         "N",
         "N",
         "2958"
        ],
        [
         "2",
         "Foto",
         "2021-09-11 00:00:00",
         "2807",
         "9",
         "Loja",
         "N",
         "N",
         "N",
         "2816"
        ],
        [
         "3",
         "Vídeo",
         "2021-09-12 00:00:00",
         "5115",
         "49",
         "Produtos",
         "N",
         "N",
         "N",
         "5164"
        ],
        [
         "4",
         "Foto",
         "2021-09-13 00:00:00",
         "4392",
         "45",
         "Produtos",
         "S",
         "N",
         "N",
         "4437"
        ]
       ],
       "shape": {
        "columns": 9,
        "rows": 5
       }
      },
      "text/html": [
       "<div>\n",
       "<style scoped>\n",
       "    .dataframe tbody tr th:only-of-type {\n",
       "        vertical-align: middle;\n",
       "    }\n",
       "\n",
       "    .dataframe tbody tr th {\n",
       "        vertical-align: top;\n",
       "    }\n",
       "\n",
       "    .dataframe thead th {\n",
       "        text-align: right;\n",
       "    }\n",
       "</style>\n",
       "<table border=\"1\" class=\"dataframe\">\n",
       "  <thead>\n",
       "    <tr style=\"text-align: right;\">\n",
       "      <th></th>\n",
       "      <th>Tipo</th>\n",
       "      <th>Data</th>\n",
       "      <th>Curtidas</th>\n",
       "      <th>Comentários</th>\n",
       "      <th>Tags</th>\n",
       "      <th>Pessoas</th>\n",
       "      <th>Campanhas</th>\n",
       "      <th>Carrossel</th>\n",
       "      <th>Interacoes</th>\n",
       "    </tr>\n",
       "  </thead>\n",
       "  <tbody>\n",
       "    <tr>\n",
       "      <th>0</th>\n",
       "      <td>Foto</td>\n",
       "      <td>2021-09-11</td>\n",
       "      <td>2858</td>\n",
       "      <td>16</td>\n",
       "      <td>Loja</td>\n",
       "      <td>N</td>\n",
       "      <td>N</td>\n",
       "      <td>N</td>\n",
       "      <td>2874</td>\n",
       "    </tr>\n",
       "    <tr>\n",
       "      <th>1</th>\n",
       "      <td>Foto</td>\n",
       "      <td>2021-09-11</td>\n",
       "      <td>2930</td>\n",
       "      <td>28</td>\n",
       "      <td>Loja/Produtos</td>\n",
       "      <td>N</td>\n",
       "      <td>N</td>\n",
       "      <td>N</td>\n",
       "      <td>2958</td>\n",
       "    </tr>\n",
       "    <tr>\n",
       "      <th>2</th>\n",
       "      <td>Foto</td>\n",
       "      <td>2021-09-11</td>\n",
       "      <td>2807</td>\n",
       "      <td>9</td>\n",
       "      <td>Loja</td>\n",
       "      <td>N</td>\n",
       "      <td>N</td>\n",
       "      <td>N</td>\n",
       "      <td>2816</td>\n",
       "    </tr>\n",
       "    <tr>\n",
       "      <th>3</th>\n",
       "      <td>Vídeo</td>\n",
       "      <td>2021-09-12</td>\n",
       "      <td>5115</td>\n",
       "      <td>49</td>\n",
       "      <td>Produtos</td>\n",
       "      <td>N</td>\n",
       "      <td>N</td>\n",
       "      <td>N</td>\n",
       "      <td>5164</td>\n",
       "    </tr>\n",
       "    <tr>\n",
       "      <th>4</th>\n",
       "      <td>Foto</td>\n",
       "      <td>2021-09-13</td>\n",
       "      <td>4392</td>\n",
       "      <td>45</td>\n",
       "      <td>Produtos</td>\n",
       "      <td>S</td>\n",
       "      <td>N</td>\n",
       "      <td>N</td>\n",
       "      <td>4437</td>\n",
       "    </tr>\n",
       "  </tbody>\n",
       "</table>\n",
       "</div>"
      ],
      "text/plain": [
       "    Tipo       Data  Curtidas  Comentários           Tags Pessoas Campanhas  \\\n",
       "0   Foto 2021-09-11      2858           16           Loja       N         N   \n",
       "1   Foto 2021-09-11      2930           28  Loja/Produtos       N         N   \n",
       "2   Foto 2021-09-11      2807            9           Loja       N         N   \n",
       "3  Vídeo 2021-09-12      5115           49       Produtos       N         N   \n",
       "4   Foto 2021-09-13      4392           45       Produtos       S         N   \n",
       "\n",
       "  Carrossel  Interacoes   \n",
       "0         N         2874  \n",
       "1         N         2958  \n",
       "2         N         2816  \n",
       "3         N         5164  \n",
       "4         N         4437  "
      ]
     },
     "metadata": {},
     "output_type": "display_data"
    }
   ],
   "source": [
    "import pandas as pd\n",
    "\n",
    "BASE = (\"Dados/engajamento_tratado.xlsx\")\n",
    "df = pd.read_excel(BASE)\n",
    "\n",
    "display(df.head())"
   ]
  },
  {
   "cell_type": "markdown",
   "id": "cd4432c8",
   "metadata": {},
   "source": [
    "## Iremos agora realizar agrupamentos:"
   ]
  },
  {
   "cell_type": "markdown",
   "id": "55392baf",
   "metadata": {},
   "source": [
    "- Analisando as postagens que mais tiveram curtidas e as que menos tiveram curtidas, nós pudemos perceber que as que tinham mais curtidas, sempre tinham pessoas. Então vamos fazer a análise de quantas curtidas e quantos comentários as postagens tem em média quando tem e quando não tem pessoas"
   ]
  },
  {
   "cell_type": "code",
   "execution_count": 36,
   "id": "49fc4e3a",
   "metadata": {},
   "outputs": [
    {
     "name": "stdout",
     "output_type": "stream",
     "text": [
      "Index(['Pessoas', 'Curtidas', 'Comentários'], dtype='object')\n"
     ]
    },
    {
     "data": {
      "application/vnd.microsoft.datawrangler.viewer.v0+json": {
       "columns": [
        {
         "name": "index",
         "rawType": "int64",
         "type": "integer"
        },
        {
         "name": "Pessoas",
         "rawType": "object",
         "type": "string"
        },
        {
         "name": "Curtidas",
         "rawType": "float64",
         "type": "float"
        },
        {
         "name": "Comentários",
         "rawType": "float64",
         "type": "float"
        }
       ],
       "ref": "c643dd80-1024-4aa3-9d16-854c891f5ed4",
       "rows": [
        [
         "0",
         "N",
         "4256.666666666667",
         "52.833333333333336"
        ],
        [
         "1",
         "S",
         "14664.55",
         "230.5"
        ]
       ],
       "shape": {
        "columns": 3,
        "rows": 2
       }
      },
      "text/html": [
       "<div>\n",
       "<style scoped>\n",
       "    .dataframe tbody tr th:only-of-type {\n",
       "        vertical-align: middle;\n",
       "    }\n",
       "\n",
       "    .dataframe tbody tr th {\n",
       "        vertical-align: top;\n",
       "    }\n",
       "\n",
       "    .dataframe thead th {\n",
       "        text-align: right;\n",
       "    }\n",
       "</style>\n",
       "<table border=\"1\" class=\"dataframe\">\n",
       "  <thead>\n",
       "    <tr style=\"text-align: right;\">\n",
       "      <th></th>\n",
       "      <th>Pessoas</th>\n",
       "      <th>Curtidas</th>\n",
       "      <th>Comentários</th>\n",
       "    </tr>\n",
       "  </thead>\n",
       "  <tbody>\n",
       "    <tr>\n",
       "      <th>0</th>\n",
       "      <td>N</td>\n",
       "      <td>4256.666667</td>\n",
       "      <td>52.833333</td>\n",
       "    </tr>\n",
       "    <tr>\n",
       "      <th>1</th>\n",
       "      <td>S</td>\n",
       "      <td>14664.550000</td>\n",
       "      <td>230.500000</td>\n",
       "    </tr>\n",
       "  </tbody>\n",
       "</table>\n",
       "</div>"
      ],
      "text/plain": [
       "  Pessoas      Curtidas  Comentários\n",
       "0       N   4256.666667    52.833333\n",
       "1       S  14664.550000   230.500000"
      ]
     },
     "metadata": {},
     "output_type": "display_data"
    },
    {
     "name": "stdout",
     "output_type": "stream",
     "text": [
      "None\n",
      "RangeIndex(start=0, stop=2, step=1)\n",
      "Pessoas\n",
      "Index(['N', 'S'], dtype='object', name='Pessoas')\n",
      "Index(['Curtidas', 'Comentários'], dtype='object')\n"
     ]
    },
    {
     "data": {
      "application/vnd.microsoft.datawrangler.viewer.v0+json": {
       "columns": [
        {
         "name": "Pessoas",
         "rawType": "object",
         "type": "string"
        },
        {
         "name": "Curtidas",
         "rawType": "float64",
         "type": "float"
        },
        {
         "name": "Comentários",
         "rawType": "float64",
         "type": "float"
        }
       ],
       "ref": "e3683d6f-75bd-40d6-8842-9eb46646c34a",
       "rows": [
        [
         "N",
         "4256.666666666667",
         "52.833333333333336"
        ],
        [
         "S",
         "14664.55",
         "230.5"
        ]
       ],
       "shape": {
        "columns": 2,
        "rows": 2
       }
      },
      "text/html": [
       "<div>\n",
       "<style scoped>\n",
       "    .dataframe tbody tr th:only-of-type {\n",
       "        vertical-align: middle;\n",
       "    }\n",
       "\n",
       "    .dataframe tbody tr th {\n",
       "        vertical-align: top;\n",
       "    }\n",
       "\n",
       "    .dataframe thead th {\n",
       "        text-align: right;\n",
       "    }\n",
       "</style>\n",
       "<table border=\"1\" class=\"dataframe\">\n",
       "  <thead>\n",
       "    <tr style=\"text-align: right;\">\n",
       "      <th></th>\n",
       "      <th>Curtidas</th>\n",
       "      <th>Comentários</th>\n",
       "    </tr>\n",
       "    <tr>\n",
       "      <th>Pessoas</th>\n",
       "      <th></th>\n",
       "      <th></th>\n",
       "    </tr>\n",
       "  </thead>\n",
       "  <tbody>\n",
       "    <tr>\n",
       "      <th>N</th>\n",
       "      <td>4256.666667</td>\n",
       "      <td>52.833333</td>\n",
       "    </tr>\n",
       "    <tr>\n",
       "      <th>S</th>\n",
       "      <td>14664.550000</td>\n",
       "      <td>230.500000</td>\n",
       "    </tr>\n",
       "  </tbody>\n",
       "</table>\n",
       "</div>"
      ],
      "text/plain": [
       "             Curtidas  Comentários\n",
       "Pessoas                           \n",
       "N         4256.666667    52.833333\n",
       "S        14664.550000   230.500000"
      ]
     },
     "metadata": {},
     "output_type": "display_data"
    }
   ],
   "source": [
    "media_curtidas_comentarios =  df.groupby(\"Pessoas\")[[\"Curtidas\", \"Comentários\"]].mean()\n",
    "gb_mean_curtidas_comentarios = media_curtidas_comentarios.reset_index()                                            # Utilizamos o reset_index() para devolver \"Pessoas\" como coluna e não como index nominal\n",
    "\n",
    "print(gb_mean_curtidas_comentarios.columns)                                                                        # Printando as colunas após o reset_index\n",
    "display(gb_mean_curtidas_comentarios)                                                                              # Printando o dataframe após o reset_index\n",
    "print(gb_mean_curtidas_comentarios.index.name)                                                                     # Index nominal. No caso como fizemos o reset_index, ele é nulo\n",
    "print(gb_mean_curtidas_comentarios.index)\n",
    "\n",
    "print(media_curtidas_comentarios.index.name)                                                # Index nominal: Pessoas\n",
    "print(media_curtidas_comentarios.index)\n",
    "print(media_curtidas_comentarios[[\"Curtidas\",\"Comentários\"]].columns)\n",
    "display(media_curtidas_comentarios)"
   ]
  },
  {
   "cell_type": "markdown",
   "id": "be9d95df",
   "metadata": {},
   "source": [
    "## Adicionando uma nova linha calculada dentro do dataframe, 2 formas:"
   ]
  },
  {
   "cell_type": "markdown",
   "id": "5ba3d306",
   "metadata": {},
   "source": [
    "#### Primeira forma:\n",
    "\n",
    "##### Etapas:\n",
    "- Fazer o reset index para transformar os índices em colunas\n",
    "- A partir daí, criar a linha calculada\n",
    "- Fazer o pd.concat para adicionar a linha calculada dentro do dataframe original"
   ]
  },
  {
   "cell_type": "code",
   "execution_count": 37,
   "id": "f5ecdbd5",
   "metadata": {},
   "outputs": [
    {
     "name": "stdout",
     "output_type": "stream",
     "text": [
      "Index(['Pessoas', 'Curtidas', 'Comentários'], dtype='object')\n"
     ]
    },
    {
     "data": {
      "application/vnd.microsoft.datawrangler.viewer.v0+json": {
       "columns": [
        {
         "name": "index",
         "rawType": "int64",
         "type": "integer"
        },
        {
         "name": "Pessoas",
         "rawType": "object",
         "type": "string"
        },
        {
         "name": "Curtidas",
         "rawType": "object",
         "type": "unknown"
        },
        {
         "name": "Comentários",
         "rawType": "object",
         "type": "unknown"
        }
       ],
       "ref": "89c8a6c1-ab49-49e1-bac8-7221d4f14bfb",
       "rows": [
        [
         "0",
         "N",
         "4256.666666666667",
         "52.833333333333336"
        ],
        [
         "1",
         "S",
         "14664.55",
         "230.5"
        ],
        [
         "2",
         "Total",
         "18921.216666666667",
         "283.3333333333333"
        ]
       ],
       "shape": {
        "columns": 3,
        "rows": 3
       }
      },
      "text/html": [
       "<div>\n",
       "<style scoped>\n",
       "    .dataframe tbody tr th:only-of-type {\n",
       "        vertical-align: middle;\n",
       "    }\n",
       "\n",
       "    .dataframe tbody tr th {\n",
       "        vertical-align: top;\n",
       "    }\n",
       "\n",
       "    .dataframe thead th {\n",
       "        text-align: right;\n",
       "    }\n",
       "</style>\n",
       "<table border=\"1\" class=\"dataframe\">\n",
       "  <thead>\n",
       "    <tr style=\"text-align: right;\">\n",
       "      <th></th>\n",
       "      <th>Pessoas</th>\n",
       "      <th>Curtidas</th>\n",
       "      <th>Comentários</th>\n",
       "    </tr>\n",
       "  </thead>\n",
       "  <tbody>\n",
       "    <tr>\n",
       "      <th>0</th>\n",
       "      <td>N</td>\n",
       "      <td>4256.666667</td>\n",
       "      <td>52.833333</td>\n",
       "    </tr>\n",
       "    <tr>\n",
       "      <th>1</th>\n",
       "      <td>S</td>\n",
       "      <td>14664.55</td>\n",
       "      <td>230.5</td>\n",
       "    </tr>\n",
       "    <tr>\n",
       "      <th>2</th>\n",
       "      <td>Total</td>\n",
       "      <td>18921.216667</td>\n",
       "      <td>283.333333</td>\n",
       "    </tr>\n",
       "  </tbody>\n",
       "</table>\n",
       "</div>"
      ],
      "text/plain": [
       "  Pessoas      Curtidas Comentários\n",
       "0       N   4256.666667   52.833333\n",
       "1       S      14664.55       230.5\n",
       "2   Total  18921.216667  283.333333"
      ]
     },
     "metadata": {},
     "output_type": "display_data"
    }
   ],
   "source": [
    "# Criando novas linhas\n",
    "print(gb_mean_curtidas_comentarios.columns)\n",
    "\n",
    "total = gb_mean_curtidas_comentarios.loc[:,[\"Curtidas\", \"Comentários\"]].sum()                                             # Pegando a Series com o sum() da quantidade de curtidas e comentários\n",
    "\n",
    "series = pd.Series([\"Total\", *total], index=gb_mean_curtidas_comentarios.columns)               # Pegando a Series anterior com a soma e adicionando a linha \"Total\" (essa será a nova linha que será adicionada no dataframe original)\n",
    "\n",
    "df_total = pd.concat([gb_mean_curtidas_comentarios, series.to_frame().T], ignore_index=True)    # Concatenando a nova linha com o dataframe original\n",
    "\n",
    "display(df_total)"
   ]
  },
  {
   "cell_type": "markdown",
   "id": "e42752c8",
   "metadata": {},
   "source": [
    "#### Segunda forma:\n",
    "\n",
    "##### Etapas:\n",
    "- Fazer um .loc com uma linha inexistente (linha que você irá criara)\n",
    "- Igualar esse .loc com o cálculo que você irá fazer das demais linhas"
   ]
  },
  {
   "cell_type": "code",
   "execution_count": 38,
   "id": "495651a4",
   "metadata": {},
   "outputs": [
    {
     "data": {
      "application/vnd.microsoft.datawrangler.viewer.v0+json": {
       "columns": [
        {
         "name": "Pessoas",
         "rawType": "object",
         "type": "string"
        },
        {
         "name": "Curtidas",
         "rawType": "float64",
         "type": "float"
        },
        {
         "name": "Comentários",
         "rawType": "float64",
         "type": "float"
        }
       ],
       "ref": "f6980f26-d6b8-44f7-a415-f057b6211e6e",
       "rows": [
        [
         "N",
         "4256.666666666667",
         "52.833333333333336"
        ],
        [
         "S",
         "14664.55",
         "230.5"
        ],
        [
         "Total",
         "18921.216666666667",
         "283.3333333333333"
        ]
       ],
       "shape": {
        "columns": 2,
        "rows": 3
       }
      },
      "text/html": [
       "<div>\n",
       "<style scoped>\n",
       "    .dataframe tbody tr th:only-of-type {\n",
       "        vertical-align: middle;\n",
       "    }\n",
       "\n",
       "    .dataframe tbody tr th {\n",
       "        vertical-align: top;\n",
       "    }\n",
       "\n",
       "    .dataframe thead th {\n",
       "        text-align: right;\n",
       "    }\n",
       "</style>\n",
       "<table border=\"1\" class=\"dataframe\">\n",
       "  <thead>\n",
       "    <tr style=\"text-align: right;\">\n",
       "      <th></th>\n",
       "      <th>Curtidas</th>\n",
       "      <th>Comentários</th>\n",
       "    </tr>\n",
       "    <tr>\n",
       "      <th>Pessoas</th>\n",
       "      <th></th>\n",
       "      <th></th>\n",
       "    </tr>\n",
       "  </thead>\n",
       "  <tbody>\n",
       "    <tr>\n",
       "      <th>N</th>\n",
       "      <td>4256.666667</td>\n",
       "      <td>52.833333</td>\n",
       "    </tr>\n",
       "    <tr>\n",
       "      <th>S</th>\n",
       "      <td>14664.550000</td>\n",
       "      <td>230.500000</td>\n",
       "    </tr>\n",
       "    <tr>\n",
       "      <th>Total</th>\n",
       "      <td>18921.216667</td>\n",
       "      <td>283.333333</td>\n",
       "    </tr>\n",
       "  </tbody>\n",
       "</table>\n",
       "</div>"
      ],
      "text/plain": [
       "             Curtidas  Comentários\n",
       "Pessoas                           \n",
       "N         4256.666667    52.833333\n",
       "S        14664.550000   230.500000\n",
       "Total    18921.216667   283.333333"
      ]
     },
     "metadata": {},
     "output_type": "display_data"
    },
    {
     "name": "stdout",
     "output_type": "stream",
     "text": [
      "Index(['Curtidas', 'Comentários'], dtype='object')\n"
     ]
    },
    {
     "data": {
      "application/vnd.microsoft.datawrangler.viewer.v0+json": {
       "columns": [
        {
         "name": "index",
         "rawType": "int64",
         "type": "integer"
        },
        {
         "name": "Pessoas",
         "rawType": "object",
         "type": "string"
        },
        {
         "name": "Curtidas",
         "rawType": "float64",
         "type": "float"
        },
        {
         "name": "Comentários",
         "rawType": "float64",
         "type": "float"
        }
       ],
       "ref": "e96ae26a-5acb-483c-bc27-3b3ad27abba3",
       "rows": [
        [
         "0",
         "N",
         "4256.666666666667",
         "52.833333333333336"
        ],
        [
         "1",
         "S",
         "14664.55",
         "230.5"
        ],
        [
         "2",
         "Total",
         "18921.216666666667",
         "283.3333333333333"
        ]
       ],
       "shape": {
        "columns": 3,
        "rows": 3
       }
      },
      "text/html": [
       "<div>\n",
       "<style scoped>\n",
       "    .dataframe tbody tr th:only-of-type {\n",
       "        vertical-align: middle;\n",
       "    }\n",
       "\n",
       "    .dataframe tbody tr th {\n",
       "        vertical-align: top;\n",
       "    }\n",
       "\n",
       "    .dataframe thead th {\n",
       "        text-align: right;\n",
       "    }\n",
       "</style>\n",
       "<table border=\"1\" class=\"dataframe\">\n",
       "  <thead>\n",
       "    <tr style=\"text-align: right;\">\n",
       "      <th></th>\n",
       "      <th>Pessoas</th>\n",
       "      <th>Curtidas</th>\n",
       "      <th>Comentários</th>\n",
       "    </tr>\n",
       "  </thead>\n",
       "  <tbody>\n",
       "    <tr>\n",
       "      <th>0</th>\n",
       "      <td>N</td>\n",
       "      <td>4256.666667</td>\n",
       "      <td>52.833333</td>\n",
       "    </tr>\n",
       "    <tr>\n",
       "      <th>1</th>\n",
       "      <td>S</td>\n",
       "      <td>14664.550000</td>\n",
       "      <td>230.500000</td>\n",
       "    </tr>\n",
       "    <tr>\n",
       "      <th>2</th>\n",
       "      <td>Total</td>\n",
       "      <td>18921.216667</td>\n",
       "      <td>283.333333</td>\n",
       "    </tr>\n",
       "  </tbody>\n",
       "</table>\n",
       "</div>"
      ],
      "text/plain": [
       "  Pessoas      Curtidas  Comentários\n",
       "0       N   4256.666667    52.833333\n",
       "1       S  14664.550000   230.500000\n",
       "2   Total  18921.216667   283.333333"
      ]
     },
     "metadata": {},
     "output_type": "display_data"
    },
    {
     "name": "stdout",
     "output_type": "stream",
     "text": [
      "Index(['Pessoas', 'Curtidas', 'Comentários'], dtype='object')\n"
     ]
    }
   ],
   "source": [
    "# OUTRA MANEIRA DE FAZER ISSO, ADICIONAR A NOVA LINHA DIRETAMENTE NO DATAFRAME\n",
    "\n",
    "df_copia = media_curtidas_comentarios.copy()\n",
    "\n",
    "df_copia.loc[\"Total\"] = df_copia.loc[\"N\"] + df_copia.loc[\"S\"]\n",
    "\n",
    "display(df_copia)\n",
    "print(df_copia.columns)\n",
    "\n",
    "# Transformando agora os index em colunas (opcional)\n",
    "\n",
    "df_copia_resetado = df_copia.reset_index()\n",
    "display(df_copia_resetado)\n",
    "print(df_copia_resetado.columns)\n"
   ]
  },
  {
   "cell_type": "markdown",
   "id": "2f6d6b0a",
   "metadata": {},
   "source": [
    "## Continuando os agrupamentos:"
   ]
  },
  {
   "cell_type": "code",
   "execution_count": 50,
   "id": "28acd2cb",
   "metadata": {},
   "outputs": [
    {
     "name": "stdout",
     "output_type": "stream",
     "text": [
      "Índices: \n",
      "('N', 'N') ('N', 'S') ('S', 'N') ('S', 'S')\n",
      "\n",
      "\n",
      "Índices Nominais: \n",
      "Pessoas Campanhas\n",
      "\n",
      "\n",
      "Colunas de fato: \n",
      "Curtidas Comentários\n",
      "\n",
      "\n",
      "\n"
     ]
    },
    {
     "data": {
      "application/vnd.microsoft.datawrangler.viewer.v0+json": {
       "columns": [
        {
         "name": "('Pessoas', 'Campanhas')",
         "rawType": "object",
         "type": "unknown"
        },
        {
         "name": "Curtidas",
         "rawType": "float64",
         "type": "float"
        },
        {
         "name": "Comentários",
         "rawType": "float64",
         "type": "float"
        }
       ],
       "ref": "a0922697-4939-4fe0-ad31-ca9677f33f0d",
       "rows": [
        [
         "('N', 'N')",
         "3937.5",
         "53.9"
        ],
        [
         "('N', 'S')",
         "5852.5",
         "47.5"
        ],
        [
         "('S', 'N')",
         "9923.75",
         "157.8"
        ],
        [
         "('S', 'S')",
         "19405.35",
         "303.2"
        ]
       ],
       "shape": {
        "columns": 2,
        "rows": 4
       }
      },
      "text/html": [
       "<div>\n",
       "<style scoped>\n",
       "    .dataframe tbody tr th:only-of-type {\n",
       "        vertical-align: middle;\n",
       "    }\n",
       "\n",
       "    .dataframe tbody tr th {\n",
       "        vertical-align: top;\n",
       "    }\n",
       "\n",
       "    .dataframe thead th {\n",
       "        text-align: right;\n",
       "    }\n",
       "</style>\n",
       "<table border=\"1\" class=\"dataframe\">\n",
       "  <thead>\n",
       "    <tr style=\"text-align: right;\">\n",
       "      <th></th>\n",
       "      <th></th>\n",
       "      <th>Curtidas</th>\n",
       "      <th>Comentários</th>\n",
       "    </tr>\n",
       "    <tr>\n",
       "      <th>Pessoas</th>\n",
       "      <th>Campanhas</th>\n",
       "      <th></th>\n",
       "      <th></th>\n",
       "    </tr>\n",
       "  </thead>\n",
       "  <tbody>\n",
       "    <tr>\n",
       "      <th rowspan=\"2\" valign=\"top\">N</th>\n",
       "      <th>N</th>\n",
       "      <td>3937.50</td>\n",
       "      <td>53.9</td>\n",
       "    </tr>\n",
       "    <tr>\n",
       "      <th>S</th>\n",
       "      <td>5852.50</td>\n",
       "      <td>47.5</td>\n",
       "    </tr>\n",
       "    <tr>\n",
       "      <th rowspan=\"2\" valign=\"top\">S</th>\n",
       "      <th>N</th>\n",
       "      <td>9923.75</td>\n",
       "      <td>157.8</td>\n",
       "    </tr>\n",
       "    <tr>\n",
       "      <th>S</th>\n",
       "      <td>19405.35</td>\n",
       "      <td>303.2</td>\n",
       "    </tr>\n",
       "  </tbody>\n",
       "</table>\n",
       "</div>"
      ],
      "text/plain": [
       "                   Curtidas  Comentários\n",
       "Pessoas Campanhas                       \n",
       "N       N           3937.50         53.9\n",
       "        S           5852.50         47.5\n",
       "S       N           9923.75        157.8\n",
       "        S          19405.35        303.2"
      ]
     },
     "metadata": {},
     "output_type": "display_data"
    }
   ],
   "source": [
    "pessoas_campanhas = df.groupby([\"Pessoas\",\"Campanhas\"])[[\"Curtidas\",\"Comentários\"]].mean()\n",
    "\n",
    "print(\"Índices: \")\n",
    "print(*pessoas_campanhas.index)\n",
    "print(\"\\n\\nÍndices Nominais: \")\n",
    "print(*pessoas_campanhas.index.names)\n",
    "print(\"\\n\\nColunas de fato: \")\n",
    "print(*pessoas_campanhas.columns)\n",
    "\n",
    "###\n",
    "print(\"\\n\\n\")\n",
    "display(pessoas_campanhas)"
   ]
  },
  {
   "cell_type": "markdown",
   "id": "1f20bfa1",
   "metadata": {},
   "source": [
    "Por meio da tabela acima, podemos ver que se não temos pessoas, com ou sem campanhas não faz tanta diferença, mas quando temos pessoas, a média já aumenta em si e quando junta pessoas com campanhas, aumenta muito os números!!"
   ]
  }
 ],
 "metadata": {
  "kernelspec": {
   "display_name": "ambiente_virtual",
   "language": "python",
   "name": "python3"
  },
  "language_info": {
   "codemirror_mode": {
    "name": "ipython",
    "version": 3
   },
   "file_extension": ".py",
   "mimetype": "text/x-python",
   "name": "python",
   "nbconvert_exporter": "python",
   "pygments_lexer": "ipython3",
   "version": "3.12.3"
  }
 },
 "nbformat": 4,
 "nbformat_minor": 5
}
