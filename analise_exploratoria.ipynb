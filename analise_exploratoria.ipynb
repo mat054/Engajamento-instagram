{
 "cells": [
  {
   "cell_type": "code",
   "execution_count": 26,
   "id": "95f58724",
   "metadata": {},
   "outputs": [
    {
     "data": {
      "application/vnd.microsoft.datawrangler.viewer.v0+json": {
       "columns": [
        {
         "name": "index",
         "rawType": "int64",
         "type": "integer"
        },
        {
         "name": "Tipo",
         "rawType": "object",
         "type": "string"
        },
        {
         "name": "Data",
         "rawType": "datetime64[ns]",
         "type": "datetime"
        },
        {
         "name": "Curtidas",
         "rawType": "int64",
         "type": "integer"
        },
        {
         "name": "Comentários",
         "rawType": "int64",
         "type": "integer"
        },
        {
         "name": "Visualizações",
         "rawType": "float64",
         "type": "float"
        },
        {
         "name": "Tags",
         "rawType": "object",
         "type": "string"
        },
        {
         "name": "Pessoas",
         "rawType": "object",
         "type": "string"
        },
        {
         "name": "Campanhas",
         "rawType": "object",
         "type": "string"
        },
        {
         "name": "Carrossel",
         "rawType": "object",
         "type": "unknown"
        },
        {
         "name": "Interacoes ",
         "rawType": "int64",
         "type": "integer"
        }
       ],
       "ref": "9bc8aadc-5ab1-4309-8cc6-6ac7d2712edf",
       "rows": [
        [
         "0",
         "Foto",
         "2021-09-11 00:00:00",
         "2858",
         "16",
         null,
         "Loja",
         "N",
         "N",
         null,
         "2874"
        ],
        [
         "1",
         "Foto",
         "2021-09-11 00:00:00",
         "2930",
         "28",
         null,
         "Loja/Produtos",
         "N",
         "N",
         null,
         "2958"
        ],
        [
         "2",
         "Foto",
         "2021-09-11 00:00:00",
         "2807",
         "9",
         null,
         "Loja",
         "N",
         "N",
         null,
         "2816"
        ],
        [
         "3",
         "Vídeo",
         "2021-09-12 00:00:00",
         "5115",
         "49",
         "82878.0",
         "Produtos",
         "N",
         "N",
         null,
         "5164"
        ],
        [
         "4",
         "Foto",
         "2021-09-13 00:00:00",
         "4392",
         "45",
         null,
         "Produtos",
         "S",
         "N",
         null,
         "4437"
        ]
       ],
       "shape": {
        "columns": 10,
        "rows": 5
       }
      },
      "text/html": [
       "<div>\n",
       "<style scoped>\n",
       "    .dataframe tbody tr th:only-of-type {\n",
       "        vertical-align: middle;\n",
       "    }\n",
       "\n",
       "    .dataframe tbody tr th {\n",
       "        vertical-align: top;\n",
       "    }\n",
       "\n",
       "    .dataframe thead th {\n",
       "        text-align: right;\n",
       "    }\n",
       "</style>\n",
       "<table border=\"1\" class=\"dataframe\">\n",
       "  <thead>\n",
       "    <tr style=\"text-align: right;\">\n",
       "      <th></th>\n",
       "      <th>Tipo</th>\n",
       "      <th>Data</th>\n",
       "      <th>Curtidas</th>\n",
       "      <th>Comentários</th>\n",
       "      <th>Visualizações</th>\n",
       "      <th>Tags</th>\n",
       "      <th>Pessoas</th>\n",
       "      <th>Campanhas</th>\n",
       "      <th>Carrossel</th>\n",
       "      <th>Interacoes</th>\n",
       "    </tr>\n",
       "  </thead>\n",
       "  <tbody>\n",
       "    <tr>\n",
       "      <th>0</th>\n",
       "      <td>Foto</td>\n",
       "      <td>2021-09-11</td>\n",
       "      <td>2858</td>\n",
       "      <td>16</td>\n",
       "      <td>NaN</td>\n",
       "      <td>Loja</td>\n",
       "      <td>N</td>\n",
       "      <td>N</td>\n",
       "      <td>NaN</td>\n",
       "      <td>2874</td>\n",
       "    </tr>\n",
       "    <tr>\n",
       "      <th>1</th>\n",
       "      <td>Foto</td>\n",
       "      <td>2021-09-11</td>\n",
       "      <td>2930</td>\n",
       "      <td>28</td>\n",
       "      <td>NaN</td>\n",
       "      <td>Loja/Produtos</td>\n",
       "      <td>N</td>\n",
       "      <td>N</td>\n",
       "      <td>NaN</td>\n",
       "      <td>2958</td>\n",
       "    </tr>\n",
       "    <tr>\n",
       "      <th>2</th>\n",
       "      <td>Foto</td>\n",
       "      <td>2021-09-11</td>\n",
       "      <td>2807</td>\n",
       "      <td>9</td>\n",
       "      <td>NaN</td>\n",
       "      <td>Loja</td>\n",
       "      <td>N</td>\n",
       "      <td>N</td>\n",
       "      <td>NaN</td>\n",
       "      <td>2816</td>\n",
       "    </tr>\n",
       "    <tr>\n",
       "      <th>3</th>\n",
       "      <td>Vídeo</td>\n",
       "      <td>2021-09-12</td>\n",
       "      <td>5115</td>\n",
       "      <td>49</td>\n",
       "      <td>82878.0</td>\n",
       "      <td>Produtos</td>\n",
       "      <td>N</td>\n",
       "      <td>N</td>\n",
       "      <td>NaN</td>\n",
       "      <td>5164</td>\n",
       "    </tr>\n",
       "    <tr>\n",
       "      <th>4</th>\n",
       "      <td>Foto</td>\n",
       "      <td>2021-09-13</td>\n",
       "      <td>4392</td>\n",
       "      <td>45</td>\n",
       "      <td>NaN</td>\n",
       "      <td>Produtos</td>\n",
       "      <td>S</td>\n",
       "      <td>N</td>\n",
       "      <td>NaN</td>\n",
       "      <td>4437</td>\n",
       "    </tr>\n",
       "  </tbody>\n",
       "</table>\n",
       "</div>"
      ],
      "text/plain": [
       "    Tipo       Data  Curtidas  Comentários  Visualizações           Tags  \\\n",
       "0   Foto 2021-09-11      2858           16            NaN           Loja   \n",
       "1   Foto 2021-09-11      2930           28            NaN  Loja/Produtos   \n",
       "2   Foto 2021-09-11      2807            9            NaN           Loja   \n",
       "3  Vídeo 2021-09-12      5115           49        82878.0       Produtos   \n",
       "4   Foto 2021-09-13      4392           45            NaN       Produtos   \n",
       "\n",
       "  Pessoas Campanhas Carrossel  Interacoes   \n",
       "0       N         N       NaN         2874  \n",
       "1       N         N       NaN         2958  \n",
       "2       N         N       NaN         2816  \n",
       "3       N         N       NaN         5164  \n",
       "4       S         N       NaN         4437  "
      ]
     },
     "metadata": {},
     "output_type": "display_data"
    }
   ],
   "source": [
    "import pandas as pd\n",
    "\n",
    "PATH_DATA = \"Dados/engajamento.xlsx\"\n",
    "\n",
    "df = pd.read_excel(PATH_DATA)\n",
    "\n",
    "display(df.head())"
   ]
  },
  {
   "cell_type": "code",
   "execution_count": 27,
   "id": "79053e41",
   "metadata": {},
   "outputs": [
    {
     "name": "stdout",
     "output_type": "stream",
     "text": [
      "['Tipo', 'Data', 'Curtidas', 'Comentários', 'Visualizações', 'Tags', 'Pessoas', 'Campanhas', 'Carrossel', 'Interacoes ']\n"
     ]
    }
   ],
   "source": [
    "# Quais são as colunas que nós temos:\n",
    "\n",
    "print(df.columns.tolist())"
   ]
  },
  {
   "cell_type": "code",
   "execution_count": 28,
   "id": "bed6fb86",
   "metadata": {},
   "outputs": [
    {
     "name": "stdout",
     "output_type": "stream",
     "text": [
      "<class 'pandas.core.frame.DataFrame'>\n",
      "RangeIndex: 52 entries, 0 to 51\n",
      "Data columns (total 10 columns):\n",
      " #   Column         Non-Null Count  Dtype         \n",
      "---  ------         --------------  -----         \n",
      " 0   Tipo           52 non-null     object        \n",
      " 1   Data           52 non-null     datetime64[ns]\n",
      " 2   Curtidas       52 non-null     int64         \n",
      " 3   Comentários    52 non-null     int64         \n",
      " 4   Visualizações  15 non-null     float64       \n",
      " 5   Tags           44 non-null     object        \n",
      " 6   Pessoas        52 non-null     object        \n",
      " 7   Campanhas      52 non-null     object        \n",
      " 8   Carrossel      8 non-null      object        \n",
      " 9   Interacoes     52 non-null     int64         \n",
      "dtypes: datetime64[ns](1), float64(1), int64(3), object(5)\n",
      "memory usage: 4.2+ KB\n",
      "None\n"
     ]
    }
   ],
   "source": [
    "# Verificando como estão os dados e linhas nulas\n",
    "\n",
    "print(df.info())"
   ]
  },
  {
   "cell_type": "code",
   "execution_count": 29,
   "id": "1078681a",
   "metadata": {},
   "outputs": [
    {
     "name": "stdout",
     "output_type": "stream",
     "text": [
      "(52, 10)\n"
     ]
    }
   ],
   "source": [
    "print(df.shape)"
   ]
  },
  {
   "cell_type": "markdown",
   "id": "f8cc3c5c",
   "metadata": {},
   "source": [
    "### Já temos algumas informações importantes:\n",
    "1. Ao todo temos 10 colunas\n",
    "2. Temos apenas 52 linhas para analisar (no caso, 52 postagens, foto ou vídeo)\n",
    "3. As colunas \"Carrosel\" e \"Visualizações\" tem muitos itens nulos, vale a pena investigar se vale a pena manter essas colunas em nossa análise"
   ]
  },
  {
   "cell_type": "code",
   "execution_count": 30,
   "id": "64141f09",
   "metadata": {},
   "outputs": [
    {
     "data": {
      "application/vnd.microsoft.datawrangler.viewer.v0+json": {
       "columns": [
        {
         "name": "index",
         "rawType": "object",
         "type": "string"
        },
        {
         "name": "Data",
         "rawType": "object",
         "type": "unknown"
        },
        {
         "name": "Curtidas",
         "rawType": "float64",
         "type": "float"
        },
        {
         "name": "Comentários",
         "rawType": "float64",
         "type": "float"
        },
        {
         "name": "Visualizações",
         "rawType": "float64",
         "type": "float"
        },
        {
         "name": "Interacoes ",
         "rawType": "float64",
         "type": "float"
        }
       ],
       "ref": "a876e244-287d-4f78-9020-2086c5ba136c",
       "rows": [
        [
         "count",
         "52",
         "52.0",
         "52.0",
         "15.0",
         "52.0"
        ],
        [
         "mean",
         "2021-12-23 04:36:55.384615424",
         "12262.73076923077",
         "189.5",
         "53295.933333333334",
         "12452.23076923077"
        ],
        [
         "min",
         "2021-09-11 00:00:00",
         "2807.0",
         "9.0",
         "12627.0",
         "2816.0"
        ],
        [
         "25%",
         "2021-10-23 06:00:00",
         "5492.0",
         "69.5",
         "23625.0",
         "5562.5"
        ],
        [
         "50%",
         "2022-01-05 00:00:00",
         "9603.0",
         "128.0",
         "67205.0",
         "9773.5"
        ],
        [
         "75%",
         "2022-02-15 12:00:00",
         "17621.75",
         "265.25",
         "71686.0",
         "17920.75"
        ],
        [
         "max",
         "2022-03-27 00:00:00",
         "37351.0",
         "852.0",
         "92120.0",
         "37853.0"
        ],
        [
         "std",
         null,
         "8165.8753264828965",
         "170.68770933387987",
         "26975.18321523022",
         "8299.390087714537"
        ]
       ],
       "shape": {
        "columns": 5,
        "rows": 8
       }
      },
      "text/html": [
       "<div>\n",
       "<style scoped>\n",
       "    .dataframe tbody tr th:only-of-type {\n",
       "        vertical-align: middle;\n",
       "    }\n",
       "\n",
       "    .dataframe tbody tr th {\n",
       "        vertical-align: top;\n",
       "    }\n",
       "\n",
       "    .dataframe thead th {\n",
       "        text-align: right;\n",
       "    }\n",
       "</style>\n",
       "<table border=\"1\" class=\"dataframe\">\n",
       "  <thead>\n",
       "    <tr style=\"text-align: right;\">\n",
       "      <th></th>\n",
       "      <th>Data</th>\n",
       "      <th>Curtidas</th>\n",
       "      <th>Comentários</th>\n",
       "      <th>Visualizações</th>\n",
       "      <th>Interacoes</th>\n",
       "    </tr>\n",
       "  </thead>\n",
       "  <tbody>\n",
       "    <tr>\n",
       "      <th>count</th>\n",
       "      <td>52</td>\n",
       "      <td>52.000000</td>\n",
       "      <td>52.000000</td>\n",
       "      <td>15.000000</td>\n",
       "      <td>52.000000</td>\n",
       "    </tr>\n",
       "    <tr>\n",
       "      <th>mean</th>\n",
       "      <td>2021-12-23 04:36:55.384615424</td>\n",
       "      <td>12262.730769</td>\n",
       "      <td>189.500000</td>\n",
       "      <td>53295.933333</td>\n",
       "      <td>12452.230769</td>\n",
       "    </tr>\n",
       "    <tr>\n",
       "      <th>min</th>\n",
       "      <td>2021-09-11 00:00:00</td>\n",
       "      <td>2807.000000</td>\n",
       "      <td>9.000000</td>\n",
       "      <td>12627.000000</td>\n",
       "      <td>2816.000000</td>\n",
       "    </tr>\n",
       "    <tr>\n",
       "      <th>25%</th>\n",
       "      <td>2021-10-23 06:00:00</td>\n",
       "      <td>5492.000000</td>\n",
       "      <td>69.500000</td>\n",
       "      <td>23625.000000</td>\n",
       "      <td>5562.500000</td>\n",
       "    </tr>\n",
       "    <tr>\n",
       "      <th>50%</th>\n",
       "      <td>2022-01-05 00:00:00</td>\n",
       "      <td>9603.000000</td>\n",
       "      <td>128.000000</td>\n",
       "      <td>67205.000000</td>\n",
       "      <td>9773.500000</td>\n",
       "    </tr>\n",
       "    <tr>\n",
       "      <th>75%</th>\n",
       "      <td>2022-02-15 12:00:00</td>\n",
       "      <td>17621.750000</td>\n",
       "      <td>265.250000</td>\n",
       "      <td>71686.000000</td>\n",
       "      <td>17920.750000</td>\n",
       "    </tr>\n",
       "    <tr>\n",
       "      <th>max</th>\n",
       "      <td>2022-03-27 00:00:00</td>\n",
       "      <td>37351.000000</td>\n",
       "      <td>852.000000</td>\n",
       "      <td>92120.000000</td>\n",
       "      <td>37853.000000</td>\n",
       "    </tr>\n",
       "    <tr>\n",
       "      <th>std</th>\n",
       "      <td>NaN</td>\n",
       "      <td>8165.875326</td>\n",
       "      <td>170.687709</td>\n",
       "      <td>26975.183215</td>\n",
       "      <td>8299.390088</td>\n",
       "    </tr>\n",
       "  </tbody>\n",
       "</table>\n",
       "</div>"
      ],
      "text/plain": [
       "                                Data      Curtidas  Comentários  \\\n",
       "count                             52     52.000000    52.000000   \n",
       "mean   2021-12-23 04:36:55.384615424  12262.730769   189.500000   \n",
       "min              2021-09-11 00:00:00   2807.000000     9.000000   \n",
       "25%              2021-10-23 06:00:00   5492.000000    69.500000   \n",
       "50%              2022-01-05 00:00:00   9603.000000   128.000000   \n",
       "75%              2022-02-15 12:00:00  17621.750000   265.250000   \n",
       "max              2022-03-27 00:00:00  37351.000000   852.000000   \n",
       "std                              NaN   8165.875326   170.687709   \n",
       "\n",
       "       Visualizações   Interacoes   \n",
       "count      15.000000     52.000000  \n",
       "mean    53295.933333  12452.230769  \n",
       "min     12627.000000   2816.000000  \n",
       "25%     23625.000000   5562.500000  \n",
       "50%     67205.000000   9773.500000  \n",
       "75%     71686.000000  17920.750000  \n",
       "max     92120.000000  37853.000000  \n",
       "std     26975.183215   8299.390088  "
      ]
     },
     "metadata": {},
     "output_type": "display_data"
    }
   ],
   "source": [
    "# Vamos descobrir como estão os valores desses dados\n",
    "\n",
    "display(df.describe())"
   ]
  },
  {
   "cell_type": "code",
   "execution_count": 31,
   "id": "638d52ee",
   "metadata": {},
   "outputs": [
    {
     "data": {
      "application/vnd.microsoft.datawrangler.viewer.v0+json": {
       "columns": [
        {
         "name": "index",
         "rawType": "object",
         "type": "string"
        },
        {
         "name": "Tipo",
         "rawType": "object",
         "type": "unknown"
        },
        {
         "name": "Data",
         "rawType": "object",
         "type": "unknown"
        },
        {
         "name": "Tags",
         "rawType": "object",
         "type": "unknown"
        },
        {
         "name": "Pessoas",
         "rawType": "object",
         "type": "unknown"
        },
        {
         "name": "Campanhas",
         "rawType": "object",
         "type": "unknown"
        },
        {
         "name": "Carrossel",
         "rawType": "object",
         "type": "unknown"
        }
       ],
       "ref": "569ecf3d-7800-4bc4-ad56-3e9f015312d4",
       "rows": [
        [
         "count",
         "52",
         "52",
         "44",
         "52",
         "52",
         "8"
        ],
        [
         "unique",
         "4",
         null,
         "12",
         "2",
         "2",
         "1"
        ],
        [
         "top",
         "Foto",
         null,
         "Produtos",
         "S",
         "N",
         "S"
        ],
        [
         "freq",
         "36",
         null,
         "12",
         "40",
         "30",
         "8"
        ],
        [
         "mean",
         null,
         "2021-12-23 04:36:55.384615424",
         null,
         null,
         null,
         null
        ],
        [
         "min",
         null,
         "2021-09-11 00:00:00",
         null,
         null,
         null,
         null
        ],
        [
         "25%",
         null,
         "2021-10-23 06:00:00",
         null,
         null,
         null,
         null
        ],
        [
         "50%",
         null,
         "2022-01-05 00:00:00",
         null,
         null,
         null,
         null
        ],
        [
         "75%",
         null,
         "2022-02-15 12:00:00",
         null,
         null,
         null,
         null
        ],
        [
         "max",
         null,
         "2022-03-27 00:00:00",
         null,
         null,
         null,
         null
        ]
       ],
       "shape": {
        "columns": 6,
        "rows": 10
       }
      },
      "text/html": [
       "<div>\n",
       "<style scoped>\n",
       "    .dataframe tbody tr th:only-of-type {\n",
       "        vertical-align: middle;\n",
       "    }\n",
       "\n",
       "    .dataframe tbody tr th {\n",
       "        vertical-align: top;\n",
       "    }\n",
       "\n",
       "    .dataframe thead th {\n",
       "        text-align: right;\n",
       "    }\n",
       "</style>\n",
       "<table border=\"1\" class=\"dataframe\">\n",
       "  <thead>\n",
       "    <tr style=\"text-align: right;\">\n",
       "      <th></th>\n",
       "      <th>Tipo</th>\n",
       "      <th>Data</th>\n",
       "      <th>Tags</th>\n",
       "      <th>Pessoas</th>\n",
       "      <th>Campanhas</th>\n",
       "      <th>Carrossel</th>\n",
       "    </tr>\n",
       "  </thead>\n",
       "  <tbody>\n",
       "    <tr>\n",
       "      <th>count</th>\n",
       "      <td>52</td>\n",
       "      <td>52</td>\n",
       "      <td>44</td>\n",
       "      <td>52</td>\n",
       "      <td>52</td>\n",
       "      <td>8</td>\n",
       "    </tr>\n",
       "    <tr>\n",
       "      <th>unique</th>\n",
       "      <td>4</td>\n",
       "      <td>NaN</td>\n",
       "      <td>12</td>\n",
       "      <td>2</td>\n",
       "      <td>2</td>\n",
       "      <td>1</td>\n",
       "    </tr>\n",
       "    <tr>\n",
       "      <th>top</th>\n",
       "      <td>Foto</td>\n",
       "      <td>NaN</td>\n",
       "      <td>Produtos</td>\n",
       "      <td>S</td>\n",
       "      <td>N</td>\n",
       "      <td>S</td>\n",
       "    </tr>\n",
       "    <tr>\n",
       "      <th>freq</th>\n",
       "      <td>36</td>\n",
       "      <td>NaN</td>\n",
       "      <td>12</td>\n",
       "      <td>40</td>\n",
       "      <td>30</td>\n",
       "      <td>8</td>\n",
       "    </tr>\n",
       "    <tr>\n",
       "      <th>mean</th>\n",
       "      <td>NaN</td>\n",
       "      <td>2021-12-23 04:36:55.384615424</td>\n",
       "      <td>NaN</td>\n",
       "      <td>NaN</td>\n",
       "      <td>NaN</td>\n",
       "      <td>NaN</td>\n",
       "    </tr>\n",
       "    <tr>\n",
       "      <th>min</th>\n",
       "      <td>NaN</td>\n",
       "      <td>2021-09-11 00:00:00</td>\n",
       "      <td>NaN</td>\n",
       "      <td>NaN</td>\n",
       "      <td>NaN</td>\n",
       "      <td>NaN</td>\n",
       "    </tr>\n",
       "    <tr>\n",
       "      <th>25%</th>\n",
       "      <td>NaN</td>\n",
       "      <td>2021-10-23 06:00:00</td>\n",
       "      <td>NaN</td>\n",
       "      <td>NaN</td>\n",
       "      <td>NaN</td>\n",
       "      <td>NaN</td>\n",
       "    </tr>\n",
       "    <tr>\n",
       "      <th>50%</th>\n",
       "      <td>NaN</td>\n",
       "      <td>2022-01-05 00:00:00</td>\n",
       "      <td>NaN</td>\n",
       "      <td>NaN</td>\n",
       "      <td>NaN</td>\n",
       "      <td>NaN</td>\n",
       "    </tr>\n",
       "    <tr>\n",
       "      <th>75%</th>\n",
       "      <td>NaN</td>\n",
       "      <td>2022-02-15 12:00:00</td>\n",
       "      <td>NaN</td>\n",
       "      <td>NaN</td>\n",
       "      <td>NaN</td>\n",
       "      <td>NaN</td>\n",
       "    </tr>\n",
       "    <tr>\n",
       "      <th>max</th>\n",
       "      <td>NaN</td>\n",
       "      <td>2022-03-27 00:00:00</td>\n",
       "      <td>NaN</td>\n",
       "      <td>NaN</td>\n",
       "      <td>NaN</td>\n",
       "      <td>NaN</td>\n",
       "    </tr>\n",
       "  </tbody>\n",
       "</table>\n",
       "</div>"
      ],
      "text/plain": [
       "        Tipo                           Data      Tags Pessoas Campanhas  \\\n",
       "count     52                             52        44      52        52   \n",
       "unique     4                            NaN        12       2         2   \n",
       "top     Foto                            NaN  Produtos       S         N   \n",
       "freq      36                            NaN        12      40        30   \n",
       "mean     NaN  2021-12-23 04:36:55.384615424       NaN     NaN       NaN   \n",
       "min      NaN            2021-09-11 00:00:00       NaN     NaN       NaN   \n",
       "25%      NaN            2021-10-23 06:00:00       NaN     NaN       NaN   \n",
       "50%      NaN            2022-01-05 00:00:00       NaN     NaN       NaN   \n",
       "75%      NaN            2022-02-15 12:00:00       NaN     NaN       NaN   \n",
       "max      NaN            2022-03-27 00:00:00       NaN     NaN       NaN   \n",
       "\n",
       "       Carrossel  \n",
       "count          8  \n",
       "unique         1  \n",
       "top            S  \n",
       "freq           8  \n",
       "mean         NaN  \n",
       "min          NaN  \n",
       "25%          NaN  \n",
       "50%          NaN  \n",
       "75%          NaN  \n",
       "max          NaN  "
      ]
     },
     "metadata": {},
     "output_type": "display_data"
    }
   ],
   "source": [
    "display(df.describe(exclude='number'))"
   ]
  },
  {
   "cell_type": "code",
   "execution_count": 32,
   "id": "bd96274c",
   "metadata": {},
   "outputs": [
    {
     "data": {
      "application/vnd.microsoft.datawrangler.viewer.v0+json": {
       "columns": [
        {
         "name": "index",
         "rawType": "int64",
         "type": "integer"
        },
        {
         "name": "Carrossel",
         "rawType": "object",
         "type": "unknown"
        },
        {
         "name": "Visualizações",
         "rawType": "float64",
         "type": "float"
        }
       ],
       "ref": "637225ca-ce76-4e36-bd9b-e6296c4a41d0",
       "rows": [
        [
         "0",
         null,
         null
        ],
        [
         "1",
         null,
         null
        ],
        [
         "2",
         null,
         null
        ],
        [
         "3",
         null,
         "82878.0"
        ],
        [
         "4",
         null,
         null
        ],
        [
         "5",
         "S",
         null
        ],
        [
         "6",
         null,
         null
        ],
        [
         "7",
         null,
         null
        ],
        [
         "8",
         "S",
         null
        ],
        [
         "9",
         null,
         "73174.0"
        ],
        [
         "10",
         null,
         "92120.0"
        ],
        [
         "11",
         null,
         null
        ],
        [
         "12",
         "S",
         null
        ],
        [
         "13",
         null,
         null
        ],
        [
         "14",
         null,
         null
        ],
        [
         "15",
         null,
         "25336.0"
        ],
        [
         "16",
         null,
         "70198.0"
        ],
        [
         "17",
         null,
         "21914.0"
        ],
        [
         "18",
         null,
         "68943.0"
        ],
        [
         "19",
         null,
         null
        ],
        [
         "20",
         null,
         null
        ],
        [
         "21",
         "S",
         null
        ],
        [
         "22",
         null,
         null
        ],
        [
         "23",
         null,
         null
        ],
        [
         "24",
         null,
         "68726.0"
        ],
        [
         "25",
         "S",
         null
        ],
        [
         "26",
         "S",
         null
        ],
        [
         "27",
         null,
         null
        ],
        [
         "28",
         "S",
         null
        ],
        [
         "29",
         null,
         null
        ],
        [
         "30",
         null,
         null
        ],
        [
         "31",
         null,
         null
        ],
        [
         "32",
         null,
         "60964.0"
        ],
        [
         "33",
         null,
         null
        ],
        [
         "34",
         null,
         null
        ],
        [
         "35",
         null,
         "73342.0"
        ],
        [
         "36",
         null,
         null
        ],
        [
         "37",
         null,
         "46397.0"
        ],
        [
         "38",
         null,
         null
        ],
        [
         "39",
         null,
         null
        ],
        [
         "40",
         "S",
         null
        ],
        [
         "41",
         null,
         null
        ],
        [
         "42",
         null,
         null
        ],
        [
         "43",
         null,
         null
        ],
        [
         "44",
         null,
         "17819.0"
        ],
        [
         "45",
         null,
         "67205.0"
        ],
        [
         "46",
         null,
         null
        ],
        [
         "47",
         null,
         "17796.0"
        ],
        [
         "48",
         null,
         null
        ],
        [
         "49",
         null,
         null
        ]
       ],
       "shape": {
        "columns": 2,
        "rows": 52
       }
      },
      "text/html": [
       "<div>\n",
       "<style scoped>\n",
       "    .dataframe tbody tr th:only-of-type {\n",
       "        vertical-align: middle;\n",
       "    }\n",
       "\n",
       "    .dataframe tbody tr th {\n",
       "        vertical-align: top;\n",
       "    }\n",
       "\n",
       "    .dataframe thead th {\n",
       "        text-align: right;\n",
       "    }\n",
       "</style>\n",
       "<table border=\"1\" class=\"dataframe\">\n",
       "  <thead>\n",
       "    <tr style=\"text-align: right;\">\n",
       "      <th></th>\n",
       "      <th>Carrossel</th>\n",
       "      <th>Visualizações</th>\n",
       "    </tr>\n",
       "  </thead>\n",
       "  <tbody>\n",
       "    <tr>\n",
       "      <th>0</th>\n",
       "      <td>NaN</td>\n",
       "      <td>NaN</td>\n",
       "    </tr>\n",
       "    <tr>\n",
       "      <th>1</th>\n",
       "      <td>NaN</td>\n",
       "      <td>NaN</td>\n",
       "    </tr>\n",
       "    <tr>\n",
       "      <th>2</th>\n",
       "      <td>NaN</td>\n",
       "      <td>NaN</td>\n",
       "    </tr>\n",
       "    <tr>\n",
       "      <th>3</th>\n",
       "      <td>NaN</td>\n",
       "      <td>82878.0</td>\n",
       "    </tr>\n",
       "    <tr>\n",
       "      <th>4</th>\n",
       "      <td>NaN</td>\n",
       "      <td>NaN</td>\n",
       "    </tr>\n",
       "    <tr>\n",
       "      <th>5</th>\n",
       "      <td>S</td>\n",
       "      <td>NaN</td>\n",
       "    </tr>\n",
       "    <tr>\n",
       "      <th>6</th>\n",
       "      <td>NaN</td>\n",
       "      <td>NaN</td>\n",
       "    </tr>\n",
       "    <tr>\n",
       "      <th>7</th>\n",
       "      <td>NaN</td>\n",
       "      <td>NaN</td>\n",
       "    </tr>\n",
       "    <tr>\n",
       "      <th>8</th>\n",
       "      <td>S</td>\n",
       "      <td>NaN</td>\n",
       "    </tr>\n",
       "    <tr>\n",
       "      <th>9</th>\n",
       "      <td>NaN</td>\n",
       "      <td>73174.0</td>\n",
       "    </tr>\n",
       "    <tr>\n",
       "      <th>10</th>\n",
       "      <td>NaN</td>\n",
       "      <td>92120.0</td>\n",
       "    </tr>\n",
       "    <tr>\n",
       "      <th>11</th>\n",
       "      <td>NaN</td>\n",
       "      <td>NaN</td>\n",
       "    </tr>\n",
       "    <tr>\n",
       "      <th>12</th>\n",
       "      <td>S</td>\n",
       "      <td>NaN</td>\n",
       "    </tr>\n",
       "    <tr>\n",
       "      <th>13</th>\n",
       "      <td>NaN</td>\n",
       "      <td>NaN</td>\n",
       "    </tr>\n",
       "    <tr>\n",
       "      <th>14</th>\n",
       "      <td>NaN</td>\n",
       "      <td>NaN</td>\n",
       "    </tr>\n",
       "    <tr>\n",
       "      <th>15</th>\n",
       "      <td>NaN</td>\n",
       "      <td>25336.0</td>\n",
       "    </tr>\n",
       "    <tr>\n",
       "      <th>16</th>\n",
       "      <td>NaN</td>\n",
       "      <td>70198.0</td>\n",
       "    </tr>\n",
       "    <tr>\n",
       "      <th>17</th>\n",
       "      <td>NaN</td>\n",
       "      <td>21914.0</td>\n",
       "    </tr>\n",
       "    <tr>\n",
       "      <th>18</th>\n",
       "      <td>NaN</td>\n",
       "      <td>68943.0</td>\n",
       "    </tr>\n",
       "    <tr>\n",
       "      <th>19</th>\n",
       "      <td>NaN</td>\n",
       "      <td>NaN</td>\n",
       "    </tr>\n",
       "    <tr>\n",
       "      <th>20</th>\n",
       "      <td>NaN</td>\n",
       "      <td>NaN</td>\n",
       "    </tr>\n",
       "    <tr>\n",
       "      <th>21</th>\n",
       "      <td>S</td>\n",
       "      <td>NaN</td>\n",
       "    </tr>\n",
       "    <tr>\n",
       "      <th>22</th>\n",
       "      <td>NaN</td>\n",
       "      <td>NaN</td>\n",
       "    </tr>\n",
       "    <tr>\n",
       "      <th>23</th>\n",
       "      <td>NaN</td>\n",
       "      <td>NaN</td>\n",
       "    </tr>\n",
       "    <tr>\n",
       "      <th>24</th>\n",
       "      <td>NaN</td>\n",
       "      <td>68726.0</td>\n",
       "    </tr>\n",
       "    <tr>\n",
       "      <th>25</th>\n",
       "      <td>S</td>\n",
       "      <td>NaN</td>\n",
       "    </tr>\n",
       "    <tr>\n",
       "      <th>26</th>\n",
       "      <td>S</td>\n",
       "      <td>NaN</td>\n",
       "    </tr>\n",
       "    <tr>\n",
       "      <th>27</th>\n",
       "      <td>NaN</td>\n",
       "      <td>NaN</td>\n",
       "    </tr>\n",
       "    <tr>\n",
       "      <th>28</th>\n",
       "      <td>S</td>\n",
       "      <td>NaN</td>\n",
       "    </tr>\n",
       "    <tr>\n",
       "      <th>29</th>\n",
       "      <td>NaN</td>\n",
       "      <td>NaN</td>\n",
       "    </tr>\n",
       "    <tr>\n",
       "      <th>30</th>\n",
       "      <td>NaN</td>\n",
       "      <td>NaN</td>\n",
       "    </tr>\n",
       "    <tr>\n",
       "      <th>31</th>\n",
       "      <td>NaN</td>\n",
       "      <td>NaN</td>\n",
       "    </tr>\n",
       "    <tr>\n",
       "      <th>32</th>\n",
       "      <td>NaN</td>\n",
       "      <td>60964.0</td>\n",
       "    </tr>\n",
       "    <tr>\n",
       "      <th>33</th>\n",
       "      <td>NaN</td>\n",
       "      <td>NaN</td>\n",
       "    </tr>\n",
       "    <tr>\n",
       "      <th>34</th>\n",
       "      <td>NaN</td>\n",
       "      <td>NaN</td>\n",
       "    </tr>\n",
       "    <tr>\n",
       "      <th>35</th>\n",
       "      <td>NaN</td>\n",
       "      <td>73342.0</td>\n",
       "    </tr>\n",
       "    <tr>\n",
       "      <th>36</th>\n",
       "      <td>NaN</td>\n",
       "      <td>NaN</td>\n",
       "    </tr>\n",
       "    <tr>\n",
       "      <th>37</th>\n",
       "      <td>NaN</td>\n",
       "      <td>46397.0</td>\n",
       "    </tr>\n",
       "    <tr>\n",
       "      <th>38</th>\n",
       "      <td>NaN</td>\n",
       "      <td>NaN</td>\n",
       "    </tr>\n",
       "    <tr>\n",
       "      <th>39</th>\n",
       "      <td>NaN</td>\n",
       "      <td>NaN</td>\n",
       "    </tr>\n",
       "    <tr>\n",
       "      <th>40</th>\n",
       "      <td>S</td>\n",
       "      <td>NaN</td>\n",
       "    </tr>\n",
       "    <tr>\n",
       "      <th>41</th>\n",
       "      <td>NaN</td>\n",
       "      <td>NaN</td>\n",
       "    </tr>\n",
       "    <tr>\n",
       "      <th>42</th>\n",
       "      <td>NaN</td>\n",
       "      <td>NaN</td>\n",
       "    </tr>\n",
       "    <tr>\n",
       "      <th>43</th>\n",
       "      <td>NaN</td>\n",
       "      <td>NaN</td>\n",
       "    </tr>\n",
       "    <tr>\n",
       "      <th>44</th>\n",
       "      <td>NaN</td>\n",
       "      <td>17819.0</td>\n",
       "    </tr>\n",
       "    <tr>\n",
       "      <th>45</th>\n",
       "      <td>NaN</td>\n",
       "      <td>67205.0</td>\n",
       "    </tr>\n",
       "    <tr>\n",
       "      <th>46</th>\n",
       "      <td>NaN</td>\n",
       "      <td>NaN</td>\n",
       "    </tr>\n",
       "    <tr>\n",
       "      <th>47</th>\n",
       "      <td>NaN</td>\n",
       "      <td>17796.0</td>\n",
       "    </tr>\n",
       "    <tr>\n",
       "      <th>48</th>\n",
       "      <td>NaN</td>\n",
       "      <td>NaN</td>\n",
       "    </tr>\n",
       "    <tr>\n",
       "      <th>49</th>\n",
       "      <td>NaN</td>\n",
       "      <td>NaN</td>\n",
       "    </tr>\n",
       "    <tr>\n",
       "      <th>50</th>\n",
       "      <td>NaN</td>\n",
       "      <td>NaN</td>\n",
       "    </tr>\n",
       "    <tr>\n",
       "      <th>51</th>\n",
       "      <td>NaN</td>\n",
       "      <td>12627.0</td>\n",
       "    </tr>\n",
       "  </tbody>\n",
       "</table>\n",
       "</div>"
      ],
      "text/plain": [
       "   Carrossel  Visualizações\n",
       "0        NaN            NaN\n",
       "1        NaN            NaN\n",
       "2        NaN            NaN\n",
       "3        NaN        82878.0\n",
       "4        NaN            NaN\n",
       "5          S            NaN\n",
       "6        NaN            NaN\n",
       "7        NaN            NaN\n",
       "8          S            NaN\n",
       "9        NaN        73174.0\n",
       "10       NaN        92120.0\n",
       "11       NaN            NaN\n",
       "12         S            NaN\n",
       "13       NaN            NaN\n",
       "14       NaN            NaN\n",
       "15       NaN        25336.0\n",
       "16       NaN        70198.0\n",
       "17       NaN        21914.0\n",
       "18       NaN        68943.0\n",
       "19       NaN            NaN\n",
       "20       NaN            NaN\n",
       "21         S            NaN\n",
       "22       NaN            NaN\n",
       "23       NaN            NaN\n",
       "24       NaN        68726.0\n",
       "25         S            NaN\n",
       "26         S            NaN\n",
       "27       NaN            NaN\n",
       "28         S            NaN\n",
       "29       NaN            NaN\n",
       "30       NaN            NaN\n",
       "31       NaN            NaN\n",
       "32       NaN        60964.0\n",
       "33       NaN            NaN\n",
       "34       NaN            NaN\n",
       "35       NaN        73342.0\n",
       "36       NaN            NaN\n",
       "37       NaN        46397.0\n",
       "38       NaN            NaN\n",
       "39       NaN            NaN\n",
       "40         S            NaN\n",
       "41       NaN            NaN\n",
       "42       NaN            NaN\n",
       "43       NaN            NaN\n",
       "44       NaN        17819.0\n",
       "45       NaN        67205.0\n",
       "46       NaN            NaN\n",
       "47       NaN        17796.0\n",
       "48       NaN            NaN\n",
       "49       NaN            NaN\n",
       "50       NaN            NaN\n",
       "51       NaN        12627.0"
      ]
     },
     "execution_count": 32,
     "metadata": {},
     "output_type": "execute_result"
    }
   ],
   "source": [
    "df[[\"Carrossel\",\"Visualizações\"]]"
   ]
  },
  {
   "cell_type": "code",
   "execution_count": 33,
   "id": "908679b9",
   "metadata": {},
   "outputs": [
    {
     "name": "stdout",
     "output_type": "stream",
     "text": [
      "['Tipo', 'Data', 'Curtidas', 'Comentários', 'Visualizações', 'Tags', 'Pessoas', 'Campanhas', 'Carrossel', 'Interacoes ']\n",
      "['Tipo', 'Data', 'Curtidas', 'Comentários', 'Tags', 'Pessoas', 'Campanhas', 'Interacoes ']\n"
     ]
    }
   ],
   "source": [
    "# Nos foi orientado de ignorar a coluna \"Visaulizações\" e a coluna \"Carrossel\" não faz sentido também por conta da pouca quantidade de dados\n",
    "print(df.columns.tolist())\n",
    "df = df.drop(columns=[\"Carrossel\",\"Visualizações\"])\n",
    "\n",
    "# Verificar se foram apagadas\n",
    "print(df.columns.tolist())"
   ]
  },
  {
   "cell_type": "code",
   "execution_count": 35,
   "id": "95483f68",
   "metadata": {},
   "outputs": [
    {
     "data": {
      "application/vnd.microsoft.datawrangler.viewer.v0+json": {
       "columns": [
        {
         "name": "index",
         "rawType": "object",
         "type": "string"
        },
        {
         "name": "0",
         "rawType": "int64",
         "type": "integer"
        }
       ],
       "ref": "da9618b9-49e6-481c-a5f7-7928a9e3a337",
       "rows": [
        [
         "Tipo",
         "4"
        ],
        [
         "Data",
         "50"
        ],
        [
         "Curtidas",
         "52"
        ],
        [
         "Comentários",
         "49"
        ],
        [
         "Tags",
         "12"
        ],
        [
         "Pessoas",
         "2"
        ],
        [
         "Campanhas",
         "2"
        ],
        [
         "Interacoes ",
         "52"
        ]
       ],
       "shape": {
        "columns": 1,
        "rows": 8
       }
      },
      "text/plain": [
       "Tipo            4\n",
       "Data           50\n",
       "Curtidas       52\n",
       "Comentários    49\n",
       "Tags           12\n",
       "Pessoas         2\n",
       "Campanhas       2\n",
       "Interacoes     52\n",
       "dtype: int64"
      ]
     },
     "metadata": {},
     "output_type": "display_data"
    }
   ],
   "source": [
    "# Com o describe nós já conseguimos ver os valores únicos, mas para visualizar melhor:\n",
    "\n",
    "display(df.nunique())"
   ]
  },
  {
   "cell_type": "markdown",
   "id": "b841f836",
   "metadata": {},
   "source": [
    "### Importante até agora:\n",
    "\n",
    "- Até o momento já sabemos que existem 4 tipos diferentes de postagens\n",
    "- 12 tipos diferentes de tags\n",
    "- 2 tipos para a coluna \"Pessoas\"\n",
    "- 2 tipos para a coluna \"Campanhas\"\n",
    "\n",
    "-- Vamos agora verificar o que são esses tipos em cada coluna\n"
   ]
  },
  {
   "cell_type": "code",
   "execution_count": 37,
   "id": "dd1967a8",
   "metadata": {},
   "outputs": [
    {
     "name": "stdout",
     "output_type": "stream",
     "text": [
      "Tipos: ['Foto', 'Vídeo', 'Reels', 'IGTV']\n",
      "Tags: ['Loja', 'Loja/Produtos', 'Produtos', 'Novos Produtos', 'Trends/Produtos', nan, 'Promoções', 'Datas comemorativas', 'Influenciadores', 'Trends', 'Dicas de como usar/Produtos', 'Dicas de como usar/Novos Produtos', 'Datas comemorativas/Promoções']\n",
      "Pessoas: ['N', 'S']\n",
      "Campanhas: ['N', 'S']\n"
     ]
    }
   ],
   "source": [
    "tipo = df[\"Tipo\"].unique().tolist()\n",
    "tags = df[\"Tags\"].unique().tolist()\n",
    "pessoas = df[\"Pessoas\"].unique().tolist()\n",
    "campanhas = df[\"Campanhas\"].unique().tolist()\n",
    "\n",
    "print(f\"Tipos: {tipo}\\nTags: {tags}\\nPessoas: {pessoas}\\nCampanhas: {campanhas}\")"
   ]
  },
  {
   "cell_type": "code",
   "execution_count": null,
   "id": "23a136bc",
   "metadata": {},
   "outputs": [],
   "source": []
  }
 ],
 "metadata": {
  "kernelspec": {
   "display_name": "ambiente_virtual",
   "language": "python",
   "name": "python3"
  },
  "language_info": {
   "codemirror_mode": {
    "name": "ipython",
    "version": 3
   },
   "file_extension": ".py",
   "mimetype": "text/x-python",
   "name": "python",
   "nbconvert_exporter": "python",
   "pygments_lexer": "ipython3",
   "version": "3.12.3"
  }
 },
 "nbformat": 4,
 "nbformat_minor": 5
}
